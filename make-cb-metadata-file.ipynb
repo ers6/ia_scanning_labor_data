{
 "cells": [
  {
   "cell_type": "code",
   "execution_count": 7,
   "id": "94ac9945",
   "metadata": {},
   "outputs": [],
   "source": [
    "import pandas as pd\n",
    "import os\n",
    "import re"
   ]
  },
  {
   "cell_type": "code",
   "execution_count": 15,
   "id": "6a488885",
   "metadata": {},
   "outputs": [],
   "source": [
    "centers = pd.read_csv('https://raw.githubusercontent.com/ers6/ia_scanning_labor_data/main/csv_files/location_key.csv')"
   ]
  },
  {
   "cell_type": "code",
   "execution_count": 16,
   "id": "3d143147",
   "metadata": {},
   "outputs": [],
   "source": [
    "centers['center_visuals_path'] = ''"
   ]
  },
  {
   "cell_type": "code",
   "execution_count": 17,
   "id": "ebd953b5",
   "metadata": {},
   "outputs": [],
   "source": [
    "\n",
    "for i in range(len(centers)): \n",
    "    path = re.sub(' ', \"_\", str(centers.at[i, 'name']))\n",
    "    path = re.sub('\\.', '', path)\n",
    "    path = re.sub(',', '', path).lower()\n",
    "    centers.at[i, 'center_visuals_path'] = path"
   ]
  },
  {
   "cell_type": "code",
   "execution_count": 18,
   "id": "a278a4b2",
   "metadata": {},
   "outputs": [
    {
     "data": {
      "text/html": [
       "<div>\n",
       "<style scoped>\n",
       "    .dataframe tbody tr th:only-of-type {\n",
       "        vertical-align: middle;\n",
       "    }\n",
       "\n",
       "    .dataframe tbody tr th {\n",
       "        vertical-align: top;\n",
       "    }\n",
       "\n",
       "    .dataframe thead th {\n",
       "        text-align: right;\n",
       "    }\n",
       "</style>\n",
       "<table border=\"1\" class=\"dataframe\">\n",
       "  <thead>\n",
       "    <tr style=\"text-align: right;\">\n",
       "      <th></th>\n",
       "      <th>scan_center</th>\n",
       "      <th>lat</th>\n",
       "      <th>long</th>\n",
       "      <th>name</th>\n",
       "      <th>center_visuals_path</th>\n",
       "    </tr>\n",
       "  </thead>\n",
       "  <tbody>\n",
       "    <tr>\n",
       "      <th>0</th>\n",
       "      <td>cebu</td>\n",
       "      <td>10.31803327</td>\n",
       "      <td>123.9205454</td>\n",
       "      <td>Innodata Knowledge Services, Inc.</td>\n",
       "      <td>innodata_knowledge_services_inc</td>\n",
       "    </tr>\n",
       "    <tr>\n",
       "      <th>1</th>\n",
       "      <td>hongkong</td>\n",
       "      <td>22.31836625</td>\n",
       "      <td>114.181248</td>\n",
       "      <td>Hong Kong</td>\n",
       "      <td>hong_kong</td>\n",
       "    </tr>\n",
       "    <tr>\n",
       "      <th>2</th>\n",
       "      <td>alberta</td>\n",
       "      <td>53.52319337</td>\n",
       "      <td>-113.5271984</td>\n",
       "      <td>University of Alberta</td>\n",
       "      <td>university_of_alberta</td>\n",
       "    </tr>\n",
       "    <tr>\n",
       "      <th>3</th>\n",
       "      <td>sfdowntown</td>\n",
       "      <td>37.78244229</td>\n",
       "      <td>-122.4717902</td>\n",
       "      <td>Internet Archive Headquarters</td>\n",
       "      <td>internet_archive_headquarters</td>\n",
       "    </tr>\n",
       "    <tr>\n",
       "      <th>4</th>\n",
       "      <td>shenzhen</td>\n",
       "      <td>113.9856083</td>\n",
       "      <td>22.598147246440938,</td>\n",
       "      <td>Datum Data Co. Ltd.</td>\n",
       "      <td>datum_data_co_ltd</td>\n",
       "    </tr>\n",
       "    <tr>\n",
       "      <th>...</th>\n",
       "      <td>...</td>\n",
       "      <td>...</td>\n",
       "      <td>...</td>\n",
       "      <td>...</td>\n",
       "      <td>...</td>\n",
       "    </tr>\n",
       "    <tr>\n",
       "      <th>105</th>\n",
       "      <td>AP Press Academy Archives</td>\n",
       "      <td>16.50612678</td>\n",
       "      <td>80.64675882</td>\n",
       "      <td>Press Academy of Andhra Pradesh</td>\n",
       "      <td>press_academy_of_andhra_pradesh</td>\n",
       "    </tr>\n",
       "    <tr>\n",
       "      <th>106</th>\n",
       "      <td>hamilton</td>\n",
       "      <td>43.26097698</td>\n",
       "      <td>-79.8703973</td>\n",
       "      <td>Hamilton Public Library</td>\n",
       "      <td>hamilton_public_library</td>\n",
       "    </tr>\n",
       "    <tr>\n",
       "      <th>107</th>\n",
       "      <td>tt_nybg</td>\n",
       "      <td>40.86181013</td>\n",
       "      <td>-73.8809266</td>\n",
       "      <td>New York Botanical Garden</td>\n",
       "      <td>new_york_botanical_garden</td>\n",
       "    </tr>\n",
       "    <tr>\n",
       "      <th>108</th>\n",
       "      <td>mobot</td>\n",
       "      <td>38.6170646</td>\n",
       "      <td>-90.26278742</td>\n",
       "      <td>Missouri Botanical Garden</td>\n",
       "      <td>missouri_botanical_garden</td>\n",
       "    </tr>\n",
       "    <tr>\n",
       "      <th>109</th>\n",
       "      <td>bali</td>\n",
       "      <td>-8.685606156</td>\n",
       "      <td>115.2297763</td>\n",
       "      <td>Perpustakaan Provinsi Bali</td>\n",
       "      <td>perpustakaan_provinsi_bali</td>\n",
       "    </tr>\n",
       "  </tbody>\n",
       "</table>\n",
       "<p>110 rows × 5 columns</p>\n",
       "</div>"
      ],
      "text/plain": [
       "                   scan_center           lat                 long  \\\n",
       "0                         cebu   10.31803327          123.9205454   \n",
       "1                     hongkong   22.31836625           114.181248   \n",
       "2                      alberta   53.52319337         -113.5271984   \n",
       "3                   sfdowntown   37.78244229         -122.4717902   \n",
       "4                     shenzhen   113.9856083  22.598147246440938,   \n",
       "..                         ...           ...                  ...   \n",
       "105  AP Press Academy Archives   16.50612678          80.64675882   \n",
       "106                   hamilton   43.26097698          -79.8703973   \n",
       "107                    tt_nybg   40.86181013          -73.8809266   \n",
       "108                      mobot    38.6170646         -90.26278742   \n",
       "109                       bali  -8.685606156          115.2297763   \n",
       "\n",
       "                                  name              center_visuals_path  \n",
       "0    Innodata Knowledge Services, Inc.  innodata_knowledge_services_inc  \n",
       "1                            Hong Kong                        hong_kong  \n",
       "2                University of Alberta            university_of_alberta  \n",
       "3        Internet Archive Headquarters    internet_archive_headquarters  \n",
       "4                  Datum Data Co. Ltd.                datum_data_co_ltd  \n",
       "..                                 ...                              ...  \n",
       "105    Press Academy of Andhra Pradesh  press_academy_of_andhra_pradesh  \n",
       "106            Hamilton Public Library          hamilton_public_library  \n",
       "107          New York Botanical Garden        new_york_botanical_garden  \n",
       "108          Missouri Botanical Garden        missouri_botanical_garden  \n",
       "109         Perpustakaan Provinsi Bali       perpustakaan_provinsi_bali  \n",
       "\n",
       "[110 rows x 5 columns]"
      ]
     },
     "execution_count": 18,
     "metadata": {},
     "output_type": "execute_result"
    }
   ],
   "source": [
    "centers"
   ]
  },
  {
   "cell_type": "code",
   "execution_count": 24,
   "id": "dc5ec313",
   "metadata": {},
   "outputs": [],
   "source": [
    "centers['data_repo_link'] = 'https://raw.githubusercontent.com/ers6/ia_scanning_labor_data/main/center_visuals/'"
   ]
  },
  {
   "cell_type": "code",
   "execution_count": 25,
   "id": "12aabdf2",
   "metadata": {},
   "outputs": [],
   "source": [
    "for i in range(len(centers)): \n",
    "    centers.at[i, 'object_location'] = centers.at[i, 'data_repo_link']  + centers.at[i, 'center_visuals_path'] + '/'"
   ]
  },
  {
   "cell_type": "code",
   "execution_count": 27,
   "id": "03a68508",
   "metadata": {},
   "outputs": [],
   "source": [
    "centers.to_csv('/Users/e.schwartz/Documents/GitHub/ia_scanning_labor_data/csv_files/cb-metadata.csv')"
   ]
  },
  {
   "cell_type": "code",
   "execution_count": null,
   "id": "151081fc",
   "metadata": {},
   "outputs": [],
   "source": []
  }
 ],
 "metadata": {
  "kernelspec": {
   "display_name": "Python 3 (ipykernel)",
   "language": "python",
   "name": "python3"
  },
  "language_info": {
   "codemirror_mode": {
    "name": "ipython",
    "version": 3
   },
   "file_extension": ".py",
   "mimetype": "text/x-python",
   "name": "python",
   "nbconvert_exporter": "python",
   "pygments_lexer": "ipython3",
   "version": "3.9.17"
  }
 },
 "nbformat": 4,
 "nbformat_minor": 5
}
