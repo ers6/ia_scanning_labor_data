{
 "cells": [
  {
   "cell_type": "code",
   "execution_count": 2,
   "id": "c20e84c8",
   "metadata": {},
   "outputs": [],
   "source": [
    "import pandas as pd\n",
    "import altair as alt"
   ]
  },
  {
   "cell_type": "markdown",
   "id": "d90466f1",
   "metadata": {},
   "source": [
    "# Findings Draft \n",
    "\n",
    "This is the findings section of the article. I'm drafting it in this jupyter notebook to bring the writing and the data together"
   ]
  },
  {
   "cell_type": "markdown",
   "id": "070e7a85",
   "metadata": {},
   "source": [
    "## Overview of Findings\n",
    "\n",
    "Through analysis of the 9 million records combined with oral histories, we found that Internet Archive has outsourced most of its scanning operations to business process outsourcing firms in the global South and working condition, on the whole, are poor. "
   ]
  },
  {
   "cell_type": "markdown",
   "id": "89a7f93b",
   "metadata": {},
   "source": [
    "## Scanning Labor Geographies\n",
    "\n",
    "Since the beginning of its book scanning program in 2004, Internet Archive has shifted its scanning centers locations from cultural heritage institutions in the global North to business process outsourcing firms in the global South. With this shift, comes a marked uptake in the number of books scanned and the rate at which workers are scanning. In spite of this, Internet Archive rarely mentions these outsourced scanning centers in its blog posts. When we asked IA management about these centers directly, they ended their involvement in this project. "
   ]
  },
  {
   "cell_type": "markdown",
   "id": "69768db5",
   "metadata": {},
   "source": [
    "### Location of Work over time \n",
    "Workers at 79 unique scanning centers created the 9 million records composing our dataset. The scanning centers include academic libraries (number), government libraries (number), public libraries (number), museums (number), archives (number), and business process outsourcing firms (number). However, out of the total records, 6 million were scanned at a business process outsourcing firm in the Phillipines, Innodata, over the past 6 years. "
   ]
  },
  {
   "cell_type": "code",
   "execution_count": 14,
   "id": "780e0667",
   "metadata": {},
   "outputs": [
    {
     "data": {
      "text/html": [
       "\n",
       "<style>\n",
       "  #altair-viz-1191301955d8408690710c7a3ef4571b.vega-embed {\n",
       "    width: 100%;\n",
       "    display: flex;\n",
       "  }\n",
       "\n",
       "  #altair-viz-1191301955d8408690710c7a3ef4571b.vega-embed details,\n",
       "  #altair-viz-1191301955d8408690710c7a3ef4571b.vega-embed details summary {\n",
       "    position: relative;\n",
       "  }\n",
       "</style>\n",
       "<div id=\"altair-viz-1191301955d8408690710c7a3ef4571b\"></div>\n",
       "<script type=\"text/javascript\">\n",
       "  var VEGA_DEBUG = (typeof VEGA_DEBUG == \"undefined\") ? {} : VEGA_DEBUG;\n",
       "  (function(spec, embedOpt){\n",
       "    let outputDiv = document.currentScript.previousElementSibling;\n",
       "    if (outputDiv.id !== \"altair-viz-1191301955d8408690710c7a3ef4571b\") {\n",
       "      outputDiv = document.getElementById(\"altair-viz-1191301955d8408690710c7a3ef4571b\");\n",
       "    }\n",
       "    const paths = {\n",
       "      \"vega\": \"https://cdn.jsdelivr.net/npm/vega@5?noext\",\n",
       "      \"vega-lib\": \"https://cdn.jsdelivr.net/npm/vega-lib?noext\",\n",
       "      \"vega-lite\": \"https://cdn.jsdelivr.net/npm/vega-lite@5.8.0?noext\",\n",
       "      \"vega-embed\": \"https://cdn.jsdelivr.net/npm/vega-embed@6?noext\",\n",
       "    };\n",
       "\n",
       "    function maybeLoadScript(lib, version) {\n",
       "      var key = `${lib.replace(\"-\", \"\")}_version`;\n",
       "      return (VEGA_DEBUG[key] == version) ?\n",
       "        Promise.resolve(paths[lib]) :\n",
       "        new Promise(function(resolve, reject) {\n",
       "          var s = document.createElement('script');\n",
       "          document.getElementsByTagName(\"head\")[0].appendChild(s);\n",
       "          s.async = true;\n",
       "          s.onload = () => {\n",
       "            VEGA_DEBUG[key] = version;\n",
       "            return resolve(paths[lib]);\n",
       "          };\n",
       "          s.onerror = () => reject(`Error loading script: ${paths[lib]}`);\n",
       "          s.src = paths[lib];\n",
       "        });\n",
       "    }\n",
       "\n",
       "    function showError(err) {\n",
       "      outputDiv.innerHTML = `<div class=\"error\" style=\"color:red;\">${err}</div>`;\n",
       "      throw err;\n",
       "    }\n",
       "\n",
       "    function displayChart(vegaEmbed) {\n",
       "      vegaEmbed(outputDiv, spec, embedOpt)\n",
       "        .catch(err => showError(`Javascript Error: ${err.message}<br>This usually means there's a typo in your chart specification. See the javascript console for the full traceback.`));\n",
       "    }\n",
       "\n",
       "    if(typeof define === \"function\" && define.amd) {\n",
       "      requirejs.config({paths});\n",
       "      require([\"vega-embed\"], displayChart, err => showError(`Error loading script: ${err.message}`));\n",
       "    } else {\n",
       "      maybeLoadScript(\"vega\", \"5\")\n",
       "        .then(() => maybeLoadScript(\"vega-lite\", \"5.8.0\"))\n",
       "        .then(() => maybeLoadScript(\"vega-embed\", \"6\"))\n",
       "        .catch(showError)\n",
       "        .then(() => displayChart(vegaEmbed));\n",
       "    }\n",
       "  })({\"config\": {\"view\": {\"continuousWidth\": 300, \"continuousHeight\": 300}, \"legend\": {\"orient\": \"bottom\"}}, \"data\": {\"url\": \"https://raw.githubusercontent.com/ers6/ia_scanning_labor_data/main/csv_files/scans_per_center_per_month.csv\"}, \"mark\": {\"type\": \"bar\"}, \"encoding\": {\"color\": {\"condition\": {\"param\": \"param_3\", \"field\": \"name\", \"legend\": {\"columns\": 8, \"symbolLimit\": 0}, \"type\": \"nominal\"}, \"value\": \"black\"}, \"order\": {\"field\": \"name\", \"sort\": \"ascending\", \"type\": \"nominal\"}, \"x\": {\"axis\": {\"labelAngle\": -4}, \"field\": \"month_year\", \"title\": \"Months\", \"type\": \"temporal\"}, \"y\": {\"field\": \"books_scanned\", \"title\": \"Books Scanned\", \"type\": \"quantitative\"}}, \"height\": 400, \"params\": [{\"name\": \"param_3\", \"select\": {\"type\": \"point\", \"fields\": [\"name\"]}, \"bind\": \"legend\"}, {\"name\": \"param_4\", \"select\": {\"type\": \"interval\", \"encodings\": [\"x\", \"y\"]}, \"bind\": \"scales\"}], \"width\": 2000, \"$schema\": \"https://vega.github.io/schema/vega-lite/v5.8.0.json\"}, {\"mode\": \"vega-lite\"});\n",
       "</script>"
      ],
      "text/plain": [
       "alt.Chart(...)"
      ]
     },
     "execution_count": 14,
     "metadata": {},
     "output_type": "execute_result"
    }
   ],
   "source": [
    "selection = alt.selection_point(fields=['name'], bind='legend')\n",
    "\n",
    "scans_per_month_chart = alt.Chart(\"https://raw.githubusercontent.com/ers6/ia_scanning_labor_data/main/csv_files/scans_per_center_per_month.csv\").mark_bar().encode(\n",
    "    x= alt.X('month_year:T', axis=alt.Axis(labelAngle=-4), title=\"Months\"),\n",
    "    y= alt.Y('books_scanned:Q', title=\"Books Scanned\"),\n",
    "#     color=alt.Color('name:N', legend=alt.Legend(columns=8, symbolLimit=0)),\n",
    "    order=alt.Order('name:N',sort='ascending'),\n",
    "#     opacity=alt.condition(selection, alt.value(1), alt.value(0.15)),\n",
    "    color=alt.condition(selection, alt.Color('name:N', legend=alt.Legend(columns=8, symbolLimit=0)), alt.value(\"black\"))\n",
    "    \n",
    ").add_params(selection).configure_legend(\n",
    "  orient='bottom'\n",
    ").properties(\n",
    "    # Adjust chart width and height to match size of legend\n",
    "    width=2000,\n",
    "    height=400\n",
    ").interactive()\n",
    "\n",
    "scans_per_month_chart"
   ]
  },
  {
   "cell_type": "code",
   "execution_count": null,
   "id": "15a2c871",
   "metadata": {},
   "outputs": [],
   "source": []
  },
  {
   "cell_type": "code",
   "execution_count": null,
   "id": "5246a69b",
   "metadata": {},
   "outputs": [],
   "source": []
  },
  {
   "cell_type": "code",
   "execution_count": null,
   "id": "5d31ff9d",
   "metadata": {},
   "outputs": [],
   "source": []
  }
 ],
 "metadata": {
  "kernelspec": {
   "display_name": "Python 3 (ipykernel)",
   "language": "python",
   "name": "python3"
  },
  "language_info": {
   "codemirror_mode": {
    "name": "ipython",
    "version": 3
   },
   "file_extension": ".py",
   "mimetype": "text/x-python",
   "name": "python",
   "nbconvert_exporter": "python",
   "pygments_lexer": "ipython3",
   "version": "3.9.17"
  }
 },
 "nbformat": 4,
 "nbformat_minor": 5
}
