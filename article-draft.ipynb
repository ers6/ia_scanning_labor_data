{
 "cells": [
  {
   "cell_type": "code",
   "execution_count": 2,
   "id": "c20e84c8",
   "metadata": {},
   "outputs": [],
   "source": [
    "import pandas as pd\n",
    "import altair as alt"
   ]
  },
  {
   "cell_type": "markdown",
   "id": "d90466f1",
   "metadata": {},
   "source": [
    "# Findings Draft \n",
    "\n",
    "This is the findings section of the article. I'm drafting it in this jupyter notebook to bring the writing and the data together"
   ]
  },
  {
   "cell_type": "markdown",
   "id": "070e7a85",
   "metadata": {},
   "source": [
    "## Overview of Findings\n",
    "\n",
    "Through analysis of the 9 million records combined with oral histories, we found that Internet Archive has outsourced most of its scanning operations to business process outsourcing firms in the global South and working condition, on the whole, are poor. "
   ]
  },
  {
   "cell_type": "markdown",
   "id": "89a7f93b",
   "metadata": {},
   "source": [
    "## Scanning Labor Geographies\n",
    "\n",
    "Since the beginning of its book scanning program in 2004, Internet Archive has shifted its scanning centers locations from cultural heritage institutions in the global North to business process outsourcing firms in the global South. With this shift, comes a marked uptake in the number of books scanned and the rate at which workers are scanning. In spite of this, Internet Archive rarely mentions these outsourced scanning centers in its blog posts. When we asked IA management about these centers directly, they ended their involvement in this project. "
   ]
  },
  {
   "cell_type": "markdown",
   "id": "69768db5",
   "metadata": {},
   "source": [
    "### Location of Work over time \n",
    "Workers at 79 unique scanning centers created the 9 million records composing our dataset. The scanning centers include academic libraries (number), government libraries (number), public libraries (number), museums (number), archives (number), and business process outsourcing firms (number). However, out of the total records, 6 million were scanned at a business process outsourcing firm in the Phillipines, Innodata, over the past 6 years. "
   ]
  },
  {
   "cell_type": "code",
   "execution_count": 12,
   "id": "780e0667",
   "metadata": {},
   "outputs": [
    {
     "data": {
      "text/html": [
       "\n",
       "<style>\n",
       "  #altair-viz-708c1934432146638d393a924b0ec421.vega-embed {\n",
       "    width: 100%;\n",
       "    display: flex;\n",
       "  }\n",
       "\n",
       "  #altair-viz-708c1934432146638d393a924b0ec421.vega-embed details,\n",
       "  #altair-viz-708c1934432146638d393a924b0ec421.vega-embed details summary {\n",
       "    position: relative;\n",
       "  }\n",
       "</style>\n",
       "<div id=\"altair-viz-708c1934432146638d393a924b0ec421\"></div>\n",
       "<script type=\"text/javascript\">\n",
       "  var VEGA_DEBUG = (typeof VEGA_DEBUG == \"undefined\") ? {} : VEGA_DEBUG;\n",
       "  (function(spec, embedOpt){\n",
       "    let outputDiv = document.currentScript.previousElementSibling;\n",
       "    if (outputDiv.id !== \"altair-viz-708c1934432146638d393a924b0ec421\") {\n",
       "      outputDiv = document.getElementById(\"altair-viz-708c1934432146638d393a924b0ec421\");\n",
       "    }\n",
       "    const paths = {\n",
       "      \"vega\": \"https://cdn.jsdelivr.net/npm/vega@5?noext\",\n",
       "      \"vega-lib\": \"https://cdn.jsdelivr.net/npm/vega-lib?noext\",\n",
       "      \"vega-lite\": \"https://cdn.jsdelivr.net/npm/vega-lite@5.20.1?noext\",\n",
       "      \"vega-embed\": \"https://cdn.jsdelivr.net/npm/vega-embed@6?noext\",\n",
       "    };\n",
       "\n",
       "    function maybeLoadScript(lib, version) {\n",
       "      var key = `${lib.replace(\"-\", \"\")}_version`;\n",
       "      return (VEGA_DEBUG[key] == version) ?\n",
       "        Promise.resolve(paths[lib]) :\n",
       "        new Promise(function(resolve, reject) {\n",
       "          var s = document.createElement('script');\n",
       "          document.getElementsByTagName(\"head\")[0].appendChild(s);\n",
       "          s.async = true;\n",
       "          s.onload = () => {\n",
       "            VEGA_DEBUG[key] = version;\n",
       "            return resolve(paths[lib]);\n",
       "          };\n",
       "          s.onerror = () => reject(`Error loading script: ${paths[lib]}`);\n",
       "          s.src = paths[lib];\n",
       "        });\n",
       "    }\n",
       "\n",
       "    function showError(err) {\n",
       "      outputDiv.innerHTML = `<div class=\"error\" style=\"color:red;\">${err}</div>`;\n",
       "      throw err;\n",
       "    }\n",
       "\n",
       "    function displayChart(vegaEmbed) {\n",
       "      vegaEmbed(outputDiv, spec, embedOpt)\n",
       "        .catch(err => showError(`Javascript Error: ${err.message}<br>This usually means there's a typo in your chart specification. See the javascript console for the full traceback.`));\n",
       "    }\n",
       "\n",
       "    if(typeof define === \"function\" && define.amd) {\n",
       "      requirejs.config({paths});\n",
       "      require([\"vega-embed\"], displayChart, err => showError(`Error loading script: ${err.message}`));\n",
       "    } else {\n",
       "      maybeLoadScript(\"vega\", \"5\")\n",
       "        .then(() => maybeLoadScript(\"vega-lite\", \"5.20.1\"))\n",
       "        .then(() => maybeLoadScript(\"vega-embed\", \"6\"))\n",
       "        .catch(showError)\n",
       "        .then(() => displayChart(vegaEmbed));\n",
       "    }\n",
       "  })({\"config\": {\"view\": {\"continuousWidth\": 300, \"continuousHeight\": 300}, \"legend\": {\"orient\": \"bottom\"}}, \"data\": {\"url\": \"https://raw.githubusercontent.com/ers6/ia_scanning_labor_data/main/metadata-analysis/metadata-records-analysis-csvs/scans_per_center_per_month.csv\"}, \"mark\": {\"type\": \"bar\"}, \"encoding\": {\"color\": {\"condition\": {\"param\": \"param_16\", \"field\": \"name\", \"legend\": {\"columns\": 8, \"symbolLimit\": 0}, \"type\": \"nominal\"}, \"value\": \"black\"}, \"order\": {\"field\": \"name\", \"sort\": \"ascending\", \"type\": \"nominal\"}, \"x\": {\"axis\": {\"labelAngle\": -4}, \"field\": \"month_year\", \"title\": \"Months\", \"type\": \"temporal\"}, \"y\": {\"field\": \"books_scanned\", \"title\": \"Books Scanned\", \"type\": \"quantitative\"}}, \"height\": 400, \"params\": [{\"name\": \"param_16\", \"select\": {\"type\": \"point\", \"fields\": [\"name\"]}, \"bind\": \"legend\"}, {\"name\": \"param_17\", \"select\": {\"type\": \"interval\", \"encodings\": [\"x\", \"y\"]}, \"bind\": \"scales\"}], \"width\": 2000, \"$schema\": \"https://vega.github.io/schema/vega-lite/v5.20.1.json\"}, {\"mode\": \"vega-lite\"});\n",
       "</script>"
      ],
      "text/plain": [
       "alt.Chart(...)"
      ]
     },
     "execution_count": 12,
     "metadata": {},
     "output_type": "execute_result"
    }
   ],
   "source": [
    "selection = alt.selection_point(fields=['name'], bind='legend')\n",
    "\n",
    "scans_per_month_chart = alt.Chart(\"https://raw.githubusercontent.com/ers6/ia_scanning_labor_data/main/metadata-analysis/metadata-records-analysis-csvs/scans_per_center_per_month.csv\").mark_bar().encode(\n",
    "    x= alt.X('month_year:T', axis=alt.Axis(labelAngle=-4), title=\"Months\"),\n",
    "    y= alt.Y('books_scanned:Q', title=\"Books Scanned\"),\n",
    "    # color=alt.Color('name:N', legend=alt.Legend(columns=8, symbolLimit=0)),\n",
    "    order=alt.Order('name:N',sort='ascending'),\n",
    "#     opacity=alt.condition(selection, alt.value(1), alt.value(0.15)),\n",
    "    color=alt.condition(selection, alt.Color('name:N', legend=alt.Legend(columns=8, symbolLimit=0)), alt.value(\"black\"))\n",
    "    \n",
    ").add_params(selection).configure_legend(\n",
    "  orient='bottom'\n",
    ").properties(\n",
    "    # Adjust chart width and height to match size of legend\n",
    "    width=2000,\n",
    "    height=400\n",
    ").interactive()\n",
    "\n",
    "scans_per_month_chart"
   ]
  },
  {
   "cell_type": "code",
   "execution_count": 35,
   "id": "25f82ef2-19c2-43d9-9549-24a7fd8173a5",
   "metadata": {},
   "outputs": [
    {
     "data": {
      "text/html": [
       "<div>\n",
       "<style scoped>\n",
       "    .dataframe tbody tr th:only-of-type {\n",
       "        vertical-align: middle;\n",
       "    }\n",
       "\n",
       "    .dataframe tbody tr th {\n",
       "        vertical-align: top;\n",
       "    }\n",
       "\n",
       "    .dataframe thead th {\n",
       "        text-align: right;\n",
       "    }\n",
       "</style>\n",
       "<table border=\"1\" class=\"dataframe\">\n",
       "  <thead>\n",
       "    <tr style=\"text-align: right;\">\n",
       "      <th></th>\n",
       "      <th>Unnamed: 0</th>\n",
       "      <th>month_year</th>\n",
       "      <th>center_type</th>\n",
       "      <th>books_scanned</th>\n",
       "    </tr>\n",
       "  </thead>\n",
       "  <tbody>\n",
       "    <tr>\n",
       "      <th>0</th>\n",
       "      <td>0</td>\n",
       "      <td>2001-12</td>\n",
       "      <td>academic</td>\n",
       "      <td>3</td>\n",
       "    </tr>\n",
       "    <tr>\n",
       "      <th>1</th>\n",
       "      <td>1</td>\n",
       "      <td>2002-01</td>\n",
       "      <td>academic</td>\n",
       "      <td>96</td>\n",
       "    </tr>\n",
       "    <tr>\n",
       "      <th>2</th>\n",
       "      <td>2</td>\n",
       "      <td>2002-01</td>\n",
       "      <td>government</td>\n",
       "      <td>4</td>\n",
       "    </tr>\n",
       "    <tr>\n",
       "      <th>3</th>\n",
       "      <td>3</td>\n",
       "      <td>2002-01</td>\n",
       "      <td>museum</td>\n",
       "      <td>1</td>\n",
       "    </tr>\n",
       "    <tr>\n",
       "      <th>4</th>\n",
       "      <td>4</td>\n",
       "      <td>2002-01</td>\n",
       "      <td>public</td>\n",
       "      <td>4</td>\n",
       "    </tr>\n",
       "    <tr>\n",
       "      <th>...</th>\n",
       "      <td>...</td>\n",
       "      <td>...</td>\n",
       "      <td>...</td>\n",
       "      <td>...</td>\n",
       "    </tr>\n",
       "    <tr>\n",
       "      <th>1299</th>\n",
       "      <td>1299</td>\n",
       "      <td>2023-06</td>\n",
       "      <td>bpo</td>\n",
       "      <td>55</td>\n",
       "    </tr>\n",
       "    <tr>\n",
       "      <th>1300</th>\n",
       "      <td>1300</td>\n",
       "      <td>2023-06</td>\n",
       "      <td>government</td>\n",
       "      <td>32</td>\n",
       "    </tr>\n",
       "    <tr>\n",
       "      <th>1301</th>\n",
       "      <td>1301</td>\n",
       "      <td>2023-06</td>\n",
       "      <td>hq</td>\n",
       "      <td>7</td>\n",
       "    </tr>\n",
       "    <tr>\n",
       "      <th>1302</th>\n",
       "      <td>1302</td>\n",
       "      <td>2023-06</td>\n",
       "      <td>museum</td>\n",
       "      <td>8</td>\n",
       "    </tr>\n",
       "    <tr>\n",
       "      <th>1303</th>\n",
       "      <td>1303</td>\n",
       "      <td>2023-06</td>\n",
       "      <td>public</td>\n",
       "      <td>150</td>\n",
       "    </tr>\n",
       "  </tbody>\n",
       "</table>\n",
       "<p>1218 rows × 4 columns</p>\n",
       "</div>"
      ],
      "text/plain": [
       "      Unnamed: 0 month_year center_type  books_scanned\n",
       "0              0    2001-12    academic              3\n",
       "1              1    2002-01    academic             96\n",
       "2              2    2002-01  government              4\n",
       "3              3    2002-01      museum              1\n",
       "4              4    2002-01      public              4\n",
       "...          ...        ...         ...            ...\n",
       "1299        1299    2023-06         bpo             55\n",
       "1300        1300    2023-06  government             32\n",
       "1301        1301    2023-06          hq              7\n",
       "1302        1302    2023-06      museum              8\n",
       "1303        1303    2023-06      public            150\n",
       "\n",
       "[1218 rows x 4 columns]"
      ]
     },
     "execution_count": 35,
     "metadata": {},
     "output_type": "execute_result"
    }
   ],
   "source": [
    "data = pd.read_csv(\"https://raw.githubusercontent.com/ers6/ia_scanning_labor_data/main/metadata-analysis/metadata-records-analysis-csvs/scans_per_center_type_per_month.csv\")\n",
    "data = data.dropna(subset=['center_type'])\n",
    "data\n"
   ]
  },
  {
   "cell_type": "code",
   "execution_count": 47,
   "id": "64abadff-cd24-4447-9616-032cb8828cb2",
   "metadata": {},
   "outputs": [],
   "source": [
    "\n",
    "\n",
    "# selection = alt.selection_point(fields=['name'], bind='legend')\n",
    "\n",
    "scans_per_month_chart = alt.Chart(data).mark_bar().encode(\n",
    "    x= alt.X('month_year:T', axis=alt.Axis(labelAngle=-4), title=\"Months\"),\n",
    "    y= alt.Y('books_scanned:Q', title=\"Books Scanned\"),\n",
    "    color=alt.Color('center_type:N', title=\"Center Type\", legend=alt.Legend(columns=1, symbolLimit=0)),\n",
    "    order=alt.Order('center_type:N',sort='ascending'),\n",
    "#     opacity=alt.condition(selection, alt.value(1), alt.value(0.15)),\n",
    "    # color=alt.condition(selection, alt.Color('center_type:N', legend=alt.Legend(columns=8, symbolLimit=0)), alt.value(\"black\"))\n",
    "    \n",
    ").add_params().configure_legend(\n",
    "  orient='right'\n",
    ").properties(\n",
    "    # Adjust chart width and height to match size of legend\n",
    "    width=1200,\n",
    "    height=400\n",
    ")\n",
    "\n",
    "scans_per_month_chart.save('/Users/elizabethschwartz/Documents/GitHub/ia_scanning_labor_data/debates_in_dh_chapter/chapter_visuals/scans_per_center_type_per_month.html')\n",
    "scans_per_month_chart.save('/Users/elizabethschwartz/Documents/GitHub/ia_scanning_labor_data/debates_in_dh_chapter/chapter_visuals/scans_per_center_type_per_month.json')\n",
    "scans_per_month_chart.save('/Users/elizabethschwartz/Documents/GitHub/ia_scanning_labor_data/debates_in_dh_chapter/chapter_visuals/scans_per_center_type_per_month.png')\n"
   ]
  },
  {
   "cell_type": "markdown",
   "id": "7cb3ad08",
   "metadata": {},
   "source": [
    "### summary paragraph- summarizing where scanning centers are located more broadly/trends overtime "
   ]
  },
  {
   "cell_type": "markdown",
   "id": "2db31a25",
   "metadata": {},
   "source": [
    "### Outsourcing\n"
   ]
  },
  {
   "cell_type": "code",
   "execution_count": 20,
   "id": "44ce54e9",
   "metadata": {},
   "outputs": [
    {
     "ename": "AttributeError",
     "evalue": "type object 'expr' has no attribute 'datum'",
     "output_type": "error",
     "traceback": [
      "\u001b[0;31m---------------------------------------------------------------------------\u001b[0m",
      "\u001b[0;31mAttributeError\u001b[0m                            Traceback (most recent call last)",
      "Cell \u001b[0;32mIn[20], line 6\u001b[0m\n\u001b[1;32m      1\u001b[0m \u001b[38;5;66;03m# selection = alt.selection_point(fields=['name'], bind='legend')\u001b[39;00m\n\u001b[1;32m      2\u001b[0m innodata_scans_chart \u001b[38;5;241m=\u001b[39m alt\u001b[38;5;241m.\u001b[39mChart(\u001b[38;5;124m\"\u001b[39m\u001b[38;5;124mhttps://raw.githubusercontent.com/ers6/ia_scanning_labor_data/main/csv_files/scans_per_center_per_month.csv\u001b[39m\u001b[38;5;124m\"\u001b[39m)\u001b[38;5;241m.\u001b[39mmark_bar()\u001b[38;5;241m.\u001b[39mencode(\n\u001b[1;32m      3\u001b[0m     x\u001b[38;5;241m=\u001b[39m alt\u001b[38;5;241m.\u001b[39mX(\u001b[38;5;124m'\u001b[39m\u001b[38;5;124mmonth_year:T\u001b[39m\u001b[38;5;124m'\u001b[39m, axis\u001b[38;5;241m=\u001b[39malt\u001b[38;5;241m.\u001b[39mAxis(labelAngle\u001b[38;5;241m=\u001b[39m\u001b[38;5;241m-\u001b[39m\u001b[38;5;241m4\u001b[39m), title\u001b[38;5;241m=\u001b[39m\u001b[38;5;124m\"\u001b[39m\u001b[38;5;124mMonths\u001b[39m\u001b[38;5;124m\"\u001b[39m),\n\u001b[1;32m      4\u001b[0m     y\u001b[38;5;241m=\u001b[39m alt\u001b[38;5;241m.\u001b[39mY(\u001b[38;5;124m'\u001b[39m\u001b[38;5;124mbooks_scanned:Q\u001b[39m\u001b[38;5;124m'\u001b[39m, title\u001b[38;5;241m=\u001b[39m\u001b[38;5;124m\"\u001b[39m\u001b[38;5;124mBooks Scanned\u001b[39m\u001b[38;5;124m\"\u001b[39m),\n\u001b[1;32m      5\u001b[0m     order\u001b[38;5;241m=\u001b[39malt\u001b[38;5;241m.\u001b[39mOrder(\u001b[38;5;124m'\u001b[39m\u001b[38;5;124mname:N\u001b[39m\u001b[38;5;124m'\u001b[39m),\n\u001b[0;32m----> 6\u001b[0m     color\u001b[38;5;241m=\u001b[39m alt\u001b[38;5;241m.\u001b[39mcondition(alt\u001b[38;5;241m.\u001b[39mexpr\u001b[38;5;241m.\u001b[39mdatum[\u001b[38;5;124m'\u001b[39m\u001b[38;5;124mname\u001b[39m\u001b[38;5;124m'\u001b[39m] \u001b[38;5;241m==\u001b[39m \u001b[38;5;124m'\u001b[39m\u001b[38;5;124mInnodata Knowledge Services, Inc.\u001b[39m\u001b[38;5;124m'\u001b[39m, alt\u001b[38;5;241m.\u001b[39mvalue(\u001b[38;5;124m'\u001b[39m\u001b[38;5;124mred\u001b[39m\u001b[38;5;124m'\u001b[39m), alt\u001b[38;5;241m.\u001b[39mvalue(\u001b[38;5;124m'\u001b[39m\u001b[38;5;124mblack\u001b[39m\u001b[38;5;124m'\u001b[39m))\n\u001b[1;32m      7\u001b[0m )\u001b[38;5;241m.\u001b[39mconfigure_legend(\n\u001b[1;32m      8\u001b[0m   orient\u001b[38;5;241m=\u001b[39m\u001b[38;5;124m'\u001b[39m\u001b[38;5;124mbottom\u001b[39m\u001b[38;5;124m'\u001b[39m\n\u001b[1;32m      9\u001b[0m )\u001b[38;5;241m.\u001b[39mproperties(\n\u001b[1;32m     10\u001b[0m     \u001b[38;5;66;03m# Adjust chart width and height to match size of legend\u001b[39;00m\n\u001b[1;32m     11\u001b[0m     width\u001b[38;5;241m=\u001b[39m\u001b[38;5;241m600\u001b[39m,\n\u001b[1;32m     12\u001b[0m     height\u001b[38;5;241m=\u001b[39m\u001b[38;5;241m400\u001b[39m\n\u001b[1;32m     13\u001b[0m )\u001b[38;5;241m.\u001b[39mproperties(\n\u001b[1;32m     14\u001b[0m     title\u001b[38;5;241m=\u001b[39m\u001b[38;5;124m'\u001b[39m\u001b[38;5;124mBooks Scanned at Innodata Knowledge Services, Inc. vs. All Books in the Dataset\u001b[39m\u001b[38;5;124m'\u001b[39m\n\u001b[1;32m     15\u001b[0m )\n\u001b[1;32m     21\u001b[0m innodata_scans_chart\n",
      "\u001b[0;31mAttributeError\u001b[0m: type object 'expr' has no attribute 'datum'"
     ]
    }
   ],
   "source": [
    "# selection = alt.selection_point(fields=['name'], bind='legend')\n",
    "innodata_scans_chart = alt.Chart(\"https://raw.githubusercontent.com/ers6/ia_scanning_labor_data/main/csv_files/scans_per_center_per_month.csv\").mark_bar().encode(\n",
    "    x= alt.X('month_year:T', axis=alt.Axis(labelAngle=-4), title=\"Months\"),\n",
    "    y= alt.Y('books_scanned:Q', title=\"Books Scanned\"),\n",
    "    order=alt.Order('name:N'),\n",
    "    color= alt.condition(alt.expr.datum['name'] == 'Innodata Knowledge Services, Inc.', alt.value('red'), alt.value('black'))\n",
    ").configure_legend(\n",
    "  orient='bottom'\n",
    ").properties(\n",
    "    # Adjust chart width and height to match size of legend\n",
    "    width=600,\n",
    "    height=400\n",
    ").properties(\n",
    "    title='Books Scanned at Innodata Knowledge Services, Inc. vs. All Books in the Dataset'\n",
    ")\n",
    "\n",
    "\n",
    "\n",
    "\n",
    "\n",
    "innodata_scans_chart\n",
    "\n"
   ]
  },
  {
   "cell_type": "code",
   "execution_count": 21,
   "id": "841635fd",
   "metadata": {},
   "outputs": [],
   "source": [
    "# selection = alt.selection_point(fields=['name'], bind='legend')\n",
    "\n",
    "condition = ['Innodata Knowledge Services, Inc.', 'Datum Data Co. Ltd.',  'Hong Kong']\n",
    "\n",
    "bpo_scans_vs_total_over_time = alt.Chart(\"https://raw.githubusercontent.com/ers6/ia_scanning_labor_data/main/metadata-analysis/metadata-records-analysis-csvs/scans_per_center_per_month.csv\").mark_bar().encode(\n",
    "    x= alt.X('month_year:T', axis=alt.Axis(labelAngle=-4), title=\"Months\"),\n",
    "    y= alt.Y('books_scanned:Q', title=\"Books Scanned\"),\n",
    "    order=alt.Order('name:N'),\n",
    "    color= alt.condition(alt.FieldOneOfPredicate(field='name', oneOf=condition), alt.value('red'), alt.value('black'))\n",
    ").configure_legend(\n",
    "  orient='bottom'\n",
    ").properties(\n",
    "    # Adjust chart width and height to match size of legend\n",
    "    width=600,\n",
    "    height=400\n",
    ").properties(\n",
    "    title='Books Scanned at Outsourced Centers vs. All Books in the Dataset'\n",
    ")\n",
    "\n",
    "bpo_scans_vs_total_over_time.save('/Users/elizabethschwartz/Documents/GitHub/ia_scanning_labor_data/debates_in_dh_chapter/chapter_visuals/bpo_scans_vs_total_over_time.html')\n",
    "bpo_scans_vs_total_over_time.save(\"/Users/elizabethschwartz/Documents/GitHub/ia_scanning_labor_data/debates_in_dh_chapter/chapter_visuals/bpo_scans_vs_total_over_time.json\")\n",
    "\n",
    "\n"
   ]
  },
  {
   "cell_type": "markdown",
   "id": "6dd25d54",
   "metadata": {},
   "source": [
    "### blog posts paragraph and media coverage self image- innodata is absent\n",
    "\n",
    "- narratives about IA scanning labor- glorified but focused on scanning workers in the global north \n",
    "- innodata, datum data, and the hong kong center are conspiculously absent in these romanticized accounts of scanning workers. even as people employed at these scanning centers have scanned the vast majority of IA's text archive's contents. \n",
    "- when we asked about these outsourced centers, IA ceased communication with our team and involvement in the project. "
   ]
  },
  {
   "cell_type": "code",
   "execution_count": 38,
   "id": "11a17b71",
   "metadata": {},
   "outputs": [],
   "source": []
  },
  {
   "cell_type": "markdown",
   "id": "8851f2c5",
   "metadata": {},
   "source": [
    "## Working conditions \n",
    "\n",
    "Working conditions are impossible to account for through data archaeology alone as these are inherently tied to human beings--their bodies, minds, and material conditions. As such, our analysis of working conditions must rely on worker accounts and these accounts are disproportionately from workers employed at scanning centers in academic libraries in the global North. While these make workers stories make up the majority of these accounts, they are a small proportion of the total people who work for the internet archive as book scanners. to make up for this, we bring in data analysis of the dataset to gauge a rough idea of turnover and rate-of-work across all the centers. these metrics are not substitutes for the voices of actual workers -- especially people of color and those of the global South. "
   ]
  },
  {
   "cell_type": "markdown",
   "id": "15208bac",
   "metadata": {},
   "source": [
    "### Overwork \n",
    "\n",
    "- survey data: \n",
    "- indeed \n",
    "- using the data to approximate overwork. \n",
    "\n",
    "We were unable to reach any scanning workers at the vast majority of the scanning centers. Because of this, we have used the dataset to approximate the rate of work at the scanning centers overtime and place. The ratio of the pages scanned each month to the number of unique people operating the scanning machinery gives us a metric to understand the rate of work across the centers taking into account that different books of different lengths vary in the amount of time they require to scan. We should expect to see some variance in the ratio over places and time because scanning archival materials is a much slower process than scanning circulating collections. Still, the ratios at the outsourced scanning centers, including Datum Data and Innodata, increase lineaerly overtime while the rates at the other centers do not conform to a linear model (they stay relatively flat). this indicates that workers at Innodata are being subjected to increasingly more overwork while the rates of work at the other centers, still likely high, remain consistent. \n"
   ]
  },
  {
   "cell_type": "code",
   "execution_count": 19,
   "id": "8cfb617a",
   "metadata": {},
   "outputs": [
    {
     "data": {
      "text/html": [
       "\n",
       "<style>\n",
       "  #altair-viz-f05667da1e4d47219030b813160b76f7.vega-embed {\n",
       "    width: 100%;\n",
       "    display: flex;\n",
       "  }\n",
       "\n",
       "  #altair-viz-f05667da1e4d47219030b813160b76f7.vega-embed details,\n",
       "  #altair-viz-f05667da1e4d47219030b813160b76f7.vega-embed details summary {\n",
       "    position: relative;\n",
       "  }\n",
       "</style>\n",
       "<div id=\"altair-viz-f05667da1e4d47219030b813160b76f7\"></div>\n",
       "<script type=\"text/javascript\">\n",
       "  var VEGA_DEBUG = (typeof VEGA_DEBUG == \"undefined\") ? {} : VEGA_DEBUG;\n",
       "  (function(spec, embedOpt){\n",
       "    let outputDiv = document.currentScript.previousElementSibling;\n",
       "    if (outputDiv.id !== \"altair-viz-f05667da1e4d47219030b813160b76f7\") {\n",
       "      outputDiv = document.getElementById(\"altair-viz-f05667da1e4d47219030b813160b76f7\");\n",
       "    }\n",
       "    const paths = {\n",
       "      \"vega\": \"https://cdn.jsdelivr.net/npm/vega@5?noext\",\n",
       "      \"vega-lib\": \"https://cdn.jsdelivr.net/npm/vega-lib?noext\",\n",
       "      \"vega-lite\": \"https://cdn.jsdelivr.net/npm/vega-lite@5.20.1?noext\",\n",
       "      \"vega-embed\": \"https://cdn.jsdelivr.net/npm/vega-embed@6?noext\",\n",
       "    };\n",
       "\n",
       "    function maybeLoadScript(lib, version) {\n",
       "      var key = `${lib.replace(\"-\", \"\")}_version`;\n",
       "      return (VEGA_DEBUG[key] == version) ?\n",
       "        Promise.resolve(paths[lib]) :\n",
       "        new Promise(function(resolve, reject) {\n",
       "          var s = document.createElement('script');\n",
       "          document.getElementsByTagName(\"head\")[0].appendChild(s);\n",
       "          s.async = true;\n",
       "          s.onload = () => {\n",
       "            VEGA_DEBUG[key] = version;\n",
       "            return resolve(paths[lib]);\n",
       "          };\n",
       "          s.onerror = () => reject(`Error loading script: ${paths[lib]}`);\n",
       "          s.src = paths[lib];\n",
       "        });\n",
       "    }\n",
       "\n",
       "    function showError(err) {\n",
       "      outputDiv.innerHTML = `<div class=\"error\" style=\"color:red;\">${err}</div>`;\n",
       "      throw err;\n",
       "    }\n",
       "\n",
       "    function displayChart(vegaEmbed) {\n",
       "      vegaEmbed(outputDiv, spec, embedOpt)\n",
       "        .catch(err => showError(`Javascript Error: ${err.message}<br>This usually means there's a typo in your chart specification. See the javascript console for the full traceback.`));\n",
       "    }\n",
       "\n",
       "    if(typeof define === \"function\" && define.amd) {\n",
       "      requirejs.config({paths});\n",
       "      require([\"vega-embed\"], displayChart, err => showError(`Error loading script: ${err.message}`));\n",
       "    } else {\n",
       "      maybeLoadScript(\"vega\", \"5\")\n",
       "        .then(() => maybeLoadScript(\"vega-lite\", \"5.20.1\"))\n",
       "        .then(() => maybeLoadScript(\"vega-embed\", \"6\"))\n",
       "        .catch(showError)\n",
       "        .then(() => displayChart(vegaEmbed));\n",
       "    }\n",
       "  })({\"config\": {\"view\": {\"continuousWidth\": 300, \"continuousHeight\": 300}, \"legend\": {\"orient\": \"bottom\"}}, \"data\": {\"url\": \"https://raw.githubusercontent.com/ers6/ia_scanning_labor_data/main/metadata-analysis/metadata-records-analysis-csvs/scans_and_workers_month_stats.csv\"}, \"mark\": {\"type\": \"circle\"}, \"encoding\": {\"color\": {\"field\": \"name\", \"legend\": {\"columns\": 8, \"symbolLimit\": 0}, \"type\": \"nominal\"}, \"opacity\": {\"condition\": {\"param\": \"param_18\", \"value\": 1}, \"value\": 0}, \"order\": {\"field\": \"name\", \"sort\": \"ascending\", \"type\": \"nominal\"}, \"tooltip\": [{\"field\": \"name\", \"type\": \"nominal\"}, {\"field\": \"pages_to_workers\", \"type\": \"quantitative\"}], \"x\": {\"axis\": {\"labelAngle\": -4}, \"field\": \"month_year\", \"title\": \"Months\", \"type\": \"temporal\"}, \"y\": {\"field\": \"pages_to_workers\", \"title\": \"Ratio of Pages Scanned to Workers\", \"type\": \"quantitative\"}}, \"height\": 400, \"params\": [{\"name\": \"param_18\", \"select\": {\"type\": \"point\", \"fields\": [\"name\"]}, \"bind\": \"legend\"}, {\"name\": \"param_19\", \"select\": {\"type\": \"interval\", \"encodings\": [\"x\", \"y\"]}, \"bind\": \"scales\"}], \"width\": 600, \"$schema\": \"https://vega.github.io/schema/vega-lite/v5.20.1.json\"}, {\"mode\": \"vega-lite\"});\n",
       "</script>"
      ],
      "text/plain": [
       "alt.Chart(...)"
      ]
     },
     "execution_count": 19,
     "metadata": {},
     "output_type": "execute_result"
    }
   ],
   "source": [
    "selection = alt.selection_point(fields=['name'], bind='legend')\n",
    "\n",
    "pages_scanned_to_workers_ratio_scatters = alt.Chart(\"https://raw.githubusercontent.com/ers6/ia_scanning_labor_data/main/metadata-analysis/metadata-records-analysis-csvs/scans_and_workers_month_stats.csv\").mark_circle().encode(\n",
    "    x= alt.X('month_year:T', axis=alt.Axis(labelAngle=-4), title=\"Months\"),\n",
    "    y= alt.Y('pages_to_workers:Q', title=\"Ratio of Pages Scanned to Workers\"),\n",
    "    color=alt.Color('name:N', legend=alt.Legend(columns=8, symbolLimit=0)),\n",
    "    order=alt.Order('name:N',sort='ascending'),\n",
    "    opacity=alt.condition(selection, alt.value(1), alt.value(0)),\n",
    "    tooltip=['name:N', 'pages_to_workers:Q']\n",
    ").add_params(selection).configure_legend(\n",
    "  orient='bottom'\n",
    ").properties(\n",
    "    # Adjust chart width and height to match size of legend\n",
    "    width=600,\n",
    "    height=400\n",
    ").interactive()\n",
    "\n",
    "pages_scanned_to_workers_ratio_scatters"
   ]
  },
  {
   "cell_type": "markdown",
   "id": "211c4183",
   "metadata": {},
   "source": [
    "### Low pay/bad benefits"
   ]
  },
  {
   "cell_type": "markdown",
   "id": "8026a7da",
   "metadata": {},
   "source": [
    "### High turnover rates"
   ]
  },
  {
   "cell_type": "code",
   "execution_count": null,
   "id": "c9f27734",
   "metadata": {},
   "outputs": [],
   "source": []
  }
 ],
 "metadata": {
  "kernelspec": {
   "display_name": "Python 3 (ipykernel)",
   "language": "python",
   "name": "python3"
  },
  "language_info": {
   "codemirror_mode": {
    "name": "ipython",
    "version": 3
   },
   "file_extension": ".py",
   "mimetype": "text/x-python",
   "name": "python",
   "nbconvert_exporter": "python",
   "pygments_lexer": "ipython3",
   "version": "3.12.4"
  }
 },
 "nbformat": 4,
 "nbformat_minor": 5
}
