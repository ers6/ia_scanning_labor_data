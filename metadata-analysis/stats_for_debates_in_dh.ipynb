{
 "cells": [
  {
   "cell_type": "code",
   "execution_count": 1,
   "id": "6ee46a41-ae90-4455-bb88-e804dda07039",
   "metadata": {},
   "outputs": [],
   "source": [
    "import pandas as pd"
   ]
  },
  {
   "cell_type": "markdown",
   "id": "4407c61b-4701-487b-824a-1ed2fd416a15",
   "metadata": {},
   "source": [
    "# stats to calculate\n",
    "- ## outsourcing:\n",
    "  - percentage of books scanned at BPOs per year\n",
    "- ## pay\n",
    "    - calculations on maximum wages workers at cebu could have made based on number of workers there per month and the contract IA had with Innodata at the time (at 1.5million per year / 12 months with x workers working per month, that leaves what max monthly wage).\n",
    "- ## rates of work:\n",
    "  - as measure of pages scanned to workers working per center per month\n",
    "  - avergage pages scanned to workers working per center + standard deviation\n",
    "- ## turn over rates- how long do operators stay at their jobs across centers\n",
    "  - avg. days worked by workers at each center + standard deviation - will need to throw out lots of junk"
   ]
  },
  {
   "cell_type": "code",
   "execution_count": 2,
   "id": "6d440caa-ace0-4afc-905d-a7388f634f9c",
   "metadata": {},
   "outputs": [],
   "source": [
    "# accessing the geocoded texts dataset from my external hard drive. You can get it from this box link: \n",
    "texts = pd.read_csv('/Volumes/Samsung_T5/scanning_labor_in_IA/geocoded-texts-data.csv', low_memory=False)\n",
    "texts = texts.drop(columns=['Unnamed: 0.3', 'Unnamed: 0.2', 'Unnamed: 0.1', 'Unnamed: 0'])"
   ]
  },
  {
   "cell_type": "code",
   "execution_count": 39,
   "id": "a9813225-1718-4cfb-a2e6-1e2c077369b4",
   "metadata": {},
   "outputs": [],
   "source": [
    "# scans per center per month\n",
    "scans_center_month = pd.read_csv(\"https://raw.githubusercontent.com/ers6/ia_scanning_labor_data/main/metadata-analysis/metadata-records-analysis-csvs/scans_per_center_per_month.csv\") \n",
    "\n",
    "# pages per center per month\n",
    "pages_center_month = pd.read_csv(\"https://raw.githubusercontent.com/ers6/ia_scanning_labor_data/main/metadata-analysis/metadata-records-analysis-csvs/pages_per_center_per_month.csv\")\n",
    "\n",
    "# scans per center type per month\n",
    "scans_type_month = pd.read_csv(\"https://raw.githubusercontent.com/ers6/ia_scanning_labor_data/main/metadata-analysis/metadata-records-analysis-csvs/scans_per_center_type_per_month.csv\").dropna(subset=['center_type'])\n",
    "scans_type_month = scans_type_month[['month_year','center_type', 'books_scanned']]\n"
   ]
  },
  {
   "cell_type": "code",
   "execution_count": 44,
   "id": "c8e744fd-236b-41a7-abdd-3e63f074862b",
   "metadata": {},
   "outputs": [],
   "source": [
    "scans_type_year = scans_type_month.groupby(['center_type','month_year']).sum().reset_index()"
   ]
  },
  {
   "cell_type": "code",
   "execution_count": 45,
   "id": "e741d7e5-acb2-430b-9dcf-8f39d2667a11",
   "metadata": {},
   "outputs": [],
   "source": [
    "scans_type_year['year'] = \"\"\n",
    "\n",
    "for i in range(len(scans_type_year)):\n",
    "    scans_type_year.at[i, 'year'] = str(scans_type_year.at[i,'month_year']).split('-')[0]"
   ]
  },
  {
   "cell_type": "code",
   "execution_count": 46,
   "id": "dd6792ed-37ae-4da5-aacf-831273fad242",
   "metadata": {},
   "outputs": [],
   "source": [
    "scans_type_year = scans_type_year.groupby(['center_type','year']).sum().reset_index()[['center_type', 'year', 'books_scanned']]"
   ]
  },
  {
   "cell_type": "code",
   "execution_count": 47,
   "id": "4c99f179-0429-45b4-8ece-3f669b9671fa",
   "metadata": {},
   "outputs": [
    {
     "data": {
      "text/html": [
       "<div>\n",
       "<style scoped>\n",
       "    .dataframe tbody tr th:only-of-type {\n",
       "        vertical-align: middle;\n",
       "    }\n",
       "\n",
       "    .dataframe tbody tr th {\n",
       "        vertical-align: top;\n",
       "    }\n",
       "\n",
       "    .dataframe thead th {\n",
       "        text-align: right;\n",
       "    }\n",
       "</style>\n",
       "<table border=\"1\" class=\"dataframe\">\n",
       "  <thead>\n",
       "    <tr style=\"text-align: right;\">\n",
       "      <th></th>\n",
       "      <th>center_type</th>\n",
       "      <th>year</th>\n",
       "      <th>books_scanned</th>\n",
       "    </tr>\n",
       "  </thead>\n",
       "  <tbody>\n",
       "    <tr>\n",
       "      <th>0</th>\n",
       "      <td>academic</td>\n",
       "      <td>2001</td>\n",
       "      <td>3</td>\n",
       "    </tr>\n",
       "    <tr>\n",
       "      <th>1</th>\n",
       "      <td>academic</td>\n",
       "      <td>2002</td>\n",
       "      <td>421</td>\n",
       "    </tr>\n",
       "    <tr>\n",
       "      <th>2</th>\n",
       "      <td>academic</td>\n",
       "      <td>2006</td>\n",
       "      <td>37248</td>\n",
       "    </tr>\n",
       "    <tr>\n",
       "      <th>3</th>\n",
       "      <td>academic</td>\n",
       "      <td>2007</td>\n",
       "      <td>108590</td>\n",
       "    </tr>\n",
       "    <tr>\n",
       "      <th>4</th>\n",
       "      <td>academic</td>\n",
       "      <td>2008</td>\n",
       "      <td>164714</td>\n",
       "    </tr>\n",
       "    <tr>\n",
       "      <th>...</th>\n",
       "      <td>...</td>\n",
       "      <td>...</td>\n",
       "      <td>...</td>\n",
       "    </tr>\n",
       "    <tr>\n",
       "      <th>118</th>\n",
       "      <td>public</td>\n",
       "      <td>2019</td>\n",
       "      <td>21036</td>\n",
       "    </tr>\n",
       "    <tr>\n",
       "      <th>119</th>\n",
       "      <td>public</td>\n",
       "      <td>2020</td>\n",
       "      <td>8342</td>\n",
       "    </tr>\n",
       "    <tr>\n",
       "      <th>120</th>\n",
       "      <td>public</td>\n",
       "      <td>2021</td>\n",
       "      <td>16017</td>\n",
       "    </tr>\n",
       "    <tr>\n",
       "      <th>121</th>\n",
       "      <td>public</td>\n",
       "      <td>2022</td>\n",
       "      <td>29775</td>\n",
       "    </tr>\n",
       "    <tr>\n",
       "      <th>122</th>\n",
       "      <td>public</td>\n",
       "      <td>2023</td>\n",
       "      <td>10074</td>\n",
       "    </tr>\n",
       "  </tbody>\n",
       "</table>\n",
       "<p>123 rows × 3 columns</p>\n",
       "</div>"
      ],
      "text/plain": [
       "    center_type  year  books_scanned\n",
       "0      academic  2001              3\n",
       "1      academic  2002            421\n",
       "2      academic  2006          37248\n",
       "3      academic  2007         108590\n",
       "4      academic  2008         164714\n",
       "..          ...   ...            ...\n",
       "118      public  2019          21036\n",
       "119      public  2020           8342\n",
       "120      public  2021          16017\n",
       "121      public  2022          29775\n",
       "122      public  2023          10074\n",
       "\n",
       "[123 rows x 3 columns]"
      ]
     },
     "execution_count": 47,
     "metadata": {},
     "output_type": "execute_result"
    }
   ],
   "source": [
    "scans_type_year"
   ]
  },
  {
   "cell_type": "code",
   "execution_count": 76,
   "id": "2f891021-711e-4108-80f9-bf97ba81073a",
   "metadata": {},
   "outputs": [
    {
     "data": {
      "text/plain": [
       "261573"
      ]
     },
     "execution_count": 76,
     "metadata": {},
     "output_type": "execute_result"
    }
   ],
   "source": [
    "scans_per_year = scans_type_year.groupby(['year']).sum().reset_index()[['year','books_scanned']]\n",
    "\n",
    "\n",
    "\n",
    "scans_per_year.loc[scans_per_year['year']== '2010']['books_scanned'].tolist()[0]"
   ]
  },
  {
   "cell_type": "code",
   "execution_count": 81,
   "id": "25d6c4c4-76fa-4544-b4d6-cc4526dfdba8",
   "metadata": {},
   "outputs": [],
   "source": [
    "scans_type_year['percent'] = ''\n",
    "\n",
    "for i in range(len(scans_type_year)):\n",
    "    scans_type_year.at[i, 'percent'] = scans_type_year.at[i, 'books_scanned'] / scans_per_year.loc[scans_per_year['year'] == scans_type_year.at[i, 'year']]['books_scanned'].tolist()[0]\n",
    "\n",
    " "
   ]
  },
  {
   "cell_type": "code",
   "execution_count": 82,
   "id": "2ee1a08b-b3c2-480a-945b-d167f00caa5f",
   "metadata": {},
   "outputs": [
    {
     "data": {
      "text/html": [
       "<div>\n",
       "<style scoped>\n",
       "    .dataframe tbody tr th:only-of-type {\n",
       "        vertical-align: middle;\n",
       "    }\n",
       "\n",
       "    .dataframe tbody tr th {\n",
       "        vertical-align: top;\n",
       "    }\n",
       "\n",
       "    .dataframe thead th {\n",
       "        text-align: right;\n",
       "    }\n",
       "</style>\n",
       "<table border=\"1\" class=\"dataframe\">\n",
       "  <thead>\n",
       "    <tr style=\"text-align: right;\">\n",
       "      <th></th>\n",
       "      <th>center_type</th>\n",
       "      <th>year</th>\n",
       "      <th>books_scanned</th>\n",
       "      <th>percent</th>\n",
       "    </tr>\n",
       "  </thead>\n",
       "  <tbody>\n",
       "    <tr>\n",
       "      <th>0</th>\n",
       "      <td>academic</td>\n",
       "      <td>2001</td>\n",
       "      <td>3</td>\n",
       "      <td>1.0</td>\n",
       "    </tr>\n",
       "    <tr>\n",
       "      <th>1</th>\n",
       "      <td>academic</td>\n",
       "      <td>2002</td>\n",
       "      <td>421</td>\n",
       "      <td>0.97907</td>\n",
       "    </tr>\n",
       "    <tr>\n",
       "      <th>2</th>\n",
       "      <td>academic</td>\n",
       "      <td>2006</td>\n",
       "      <td>37248</td>\n",
       "      <td>0.589554</td>\n",
       "    </tr>\n",
       "    <tr>\n",
       "      <th>3</th>\n",
       "      <td>academic</td>\n",
       "      <td>2007</td>\n",
       "      <td>108590</td>\n",
       "      <td>0.683085</td>\n",
       "    </tr>\n",
       "    <tr>\n",
       "      <th>4</th>\n",
       "      <td>academic</td>\n",
       "      <td>2008</td>\n",
       "      <td>164714</td>\n",
       "      <td>0.639723</td>\n",
       "    </tr>\n",
       "    <tr>\n",
       "      <th>...</th>\n",
       "      <td>...</td>\n",
       "      <td>...</td>\n",
       "      <td>...</td>\n",
       "      <td>...</td>\n",
       "    </tr>\n",
       "    <tr>\n",
       "      <th>118</th>\n",
       "      <td>public</td>\n",
       "      <td>2019</td>\n",
       "      <td>21036</td>\n",
       "      <td>0.043464</td>\n",
       "    </tr>\n",
       "    <tr>\n",
       "      <th>119</th>\n",
       "      <td>public</td>\n",
       "      <td>2020</td>\n",
       "      <td>8342</td>\n",
       "      <td>0.010275</td>\n",
       "    </tr>\n",
       "    <tr>\n",
       "      <th>120</th>\n",
       "      <td>public</td>\n",
       "      <td>2021</td>\n",
       "      <td>16017</td>\n",
       "      <td>0.016478</td>\n",
       "    </tr>\n",
       "    <tr>\n",
       "      <th>121</th>\n",
       "      <td>public</td>\n",
       "      <td>2022</td>\n",
       "      <td>29775</td>\n",
       "      <td>0.027982</td>\n",
       "    </tr>\n",
       "    <tr>\n",
       "      <th>122</th>\n",
       "      <td>public</td>\n",
       "      <td>2023</td>\n",
       "      <td>10074</td>\n",
       "      <td>0.025226</td>\n",
       "    </tr>\n",
       "  </tbody>\n",
       "</table>\n",
       "<p>123 rows × 4 columns</p>\n",
       "</div>"
      ],
      "text/plain": [
       "    center_type  year  books_scanned   percent\n",
       "0      academic  2001              3       1.0\n",
       "1      academic  2002            421   0.97907\n",
       "2      academic  2006          37248  0.589554\n",
       "3      academic  2007         108590  0.683085\n",
       "4      academic  2008         164714  0.639723\n",
       "..          ...   ...            ...       ...\n",
       "118      public  2019          21036  0.043464\n",
       "119      public  2020           8342  0.010275\n",
       "120      public  2021          16017  0.016478\n",
       "121      public  2022          29775  0.027982\n",
       "122      public  2023          10074  0.025226\n",
       "\n",
       "[123 rows x 4 columns]"
      ]
     },
     "execution_count": 82,
     "metadata": {},
     "output_type": "execute_result"
    }
   ],
   "source": [
    "scans_type_year.to_csv('')"
   ]
  },
  {
   "cell_type": "code",
   "execution_count": null,
   "id": "f94035d2-eb2d-45f8-8f1b-4edff401c55a",
   "metadata": {},
   "outputs": [],
   "source": []
  }
 ],
 "metadata": {
  "kernelspec": {
   "display_name": "Python 3 (ipykernel)",
   "language": "python",
   "name": "python3"
  },
  "language_info": {
   "codemirror_mode": {
    "name": "ipython",
    "version": 3
   },
   "file_extension": ".py",
   "mimetype": "text/x-python",
   "name": "python",
   "nbconvert_exporter": "python",
   "pygments_lexer": "ipython3",
   "version": "3.12.2"
  }
 },
 "nbformat": 4,
 "nbformat_minor": 5
}
