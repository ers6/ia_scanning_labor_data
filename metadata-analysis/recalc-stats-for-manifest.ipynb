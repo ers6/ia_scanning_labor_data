{
 "cells": [
  {
   "cell_type": "markdown",
   "id": "1199c38c-762c-41cd-bf89-86c35d8fc850",
   "metadata": {},
   "source": [
    "# Recalculate Stats for Manifest\n",
    "Because manifest can't display times on a month to month rolling basis, we need to recalculate stats for the whole dataset. \n",
    "We can do this by getting full data (not reflective of time) and getting data for each center per year so that we can see the evolution of the supply chain overtime. "
   ]
  },
  {
   "cell_type": "code",
   "execution_count": 7,
   "id": "1738f5c0-4ade-497e-a852-129a2707e635",
   "metadata": {},
   "outputs": [],
   "source": [
    "import pandas as pd\n",
    "import os"
   ]
  },
  {
   "cell_type": "code",
   "execution_count": 3,
   "id": "69151926-ff9e-4f23-ba35-c24ec53f1959",
   "metadata": {},
   "outputs": [],
   "source": [
    "texts = pd.read_csv('/Volumes/Samsung_T5/scanning_labor_in_IA/geocoded-texts-data.csv', low_memory=False).drop(columns=['Unnamed: 0.3', 'Unnamed: 0.2', 'Unnamed: 0.1', 'Unnamed: 0'])"
   ]
  },
  {
   "cell_type": "markdown",
   "id": "5fee4a99-4f0b-4cfa-8589-c00425de4b35",
   "metadata": {},
   "source": [
    "## Create Subdirectories for Centers"
   ]
  },
  {
   "cell_type": "code",
   "execution_count": 6,
   "id": "de89d07d-b844-4e72-b8d3-4822843fe27b",
   "metadata": {},
   "outputs": [],
   "source": [
    "center_names = texts['name'].unique()"
   ]
  },
  {
   "cell_type": "code",
   "execution_count": 8,
   "id": "2ce3c4f4-9677-4467-bc2d-11bb0caee326",
   "metadata": {},
   "outputs": [],
   "source": [
    "file_path = \"/Users/elizabethschwartz/Documents/GitHub/ia_scanning_labor_data/metadata-analysis/metadata-records-analysis-csvs/annual_stats/\""
   ]
  },
  {
   "cell_type": "code",
   "execution_count": 11,
   "id": "ee420267-edce-43a1-ad66-da26cb7a2209",
   "metadata": {},
   "outputs": [],
   "source": [
    "subdirs = []\n",
    "for name in center_names: \n",
    "    subdirs.append(name.lower().replace(\" \", \"_\").replace('.','').replace(',',''))"
   ]
  },
  {
   "cell_type": "code",
   "execution_count": 12,
   "id": "5cfa07f7-b307-480f-b20f-c7b06942c001",
   "metadata": {},
   "outputs": [
    {
     "data": {
      "text/plain": [
       "['datum_data_co_ltd',\n",
       " 'hong_kong',\n",
       " 'innodata_knowledge_services_inc',\n",
       " 'university_of_alberta',\n",
       " 'internet_archive_headquarters',\n",
       " 'ucla',\n",
       " 'allen_county_public_library_geneaology_center',\n",
       " 'british_library',\n",
       " 'university_of_toronto',\n",
       " 'princeton_university',\n",
       " 'boston_public_library',\n",
       " 'national_agricultural_library',\n",
       " 'library_of_congress',\n",
       " 'columbia_university',\n",
       " 'unc_chapel_hill',\n",
       " 'internt_archive_physical_archive',\n",
       " 'uiuc',\n",
       " 'national_library_of_scotland',\n",
       " 'san_francisco_public_library',\n",
       " 'university_of_maryland_college_park',\n",
       " 'north_carolina_state_university',\n",
       " 'byu_provo',\n",
       " 'smithsonian_libraries_and_archives',\n",
       " 'georgetown_university',\n",
       " 'internet_archive_sheridan_headquarters',\n",
       " 'duke_university',\n",
       " 'brown_university',\n",
       " 'natural_history_museum_library_london',\n",
       " 'the_archive_of_contemporary_music',\n",
       " 'byu_hawaii',\n",
       " 'byu_idaho_family_history_library',\n",
       " 'getty_research_institute_valencia_warehouse',\n",
       " 'university_of_florida',\n",
       " 'the_ohio_state_university',\n",
       " 'american_numismatic_society',\n",
       " 'getty_research_institute',\n",
       " 'harvard',\n",
       " 'university_of_pretoria',\n",
       " 'international_institute_of_information_technology_hyderabad',\n",
       " 'california_state_library',\n",
       " 'university_of_chinese_academy_of_sciences',\n",
       " 'servants_of_knowledge',\n",
       " 'the_servants_of_knowledge',\n",
       " 'trent_university',\n",
       " 'universidad_francisco_marroquín',\n",
       " 'analysis_and_policy_observatory_(apo)',\n",
       " 'bookscanus',\n",
       " 'american_museum_of_natural_history',\n",
       " 'state_library_of_pennsylvania',\n",
       " 'yiddish_book_center',\n",
       " 'stanford_university',\n",
       " 'peabody_essex_museum',\n",
       " 'california_acaddemy_of_sciences',\n",
       " 'centre_for_strategic_and_international_studies_jakarta',\n",
       " 'zhejiang_university',\n",
       " 'clemson_university',\n",
       " 'osmania_university',\n",
       " 'john_hopkins_university_library_offsite_storage',\n",
       " 'university_of_victoria',\n",
       " 'hopewell_junction',\n",
       " 'university_of_warwick',\n",
       " 'research_institute_of_korean_studies',\n",
       " '1_dollar_scan',\n",
       " 'regional_mega_scanning_center_by_iit_hyderbad',\n",
       " 'washington_university_in_st_louis',\n",
       " 'church_history_library',\n",
       " 'american_printing_house_for_the_blind',\n",
       " 'oberlin_college_libraries',\n",
       " 'clatsop_county_historical_society',\n",
       " 'staten_island_museum',\n",
       " 'family_search_library',\n",
       " 'university_of_connecticut',\n",
       " 'perkins_school_for_the_blind',\n",
       " 'press_academy_of_andhra_pradesh',\n",
       " 'hamilton_public_library',\n",
       " 'new_york_botanical_garden',\n",
       " 'missouri_botanical_garden',\n",
       " 'perpustakaan_provinsi_bali']"
      ]
     },
     "execution_count": 12,
     "metadata": {},
     "output_type": "execute_result"
    }
   ],
   "source": [
    "for this_dir in subdirs: \n",
    "    "
   ]
  },
  {
   "cell_type": "markdown",
   "id": "1fd00f32-e8fb-4c34-af6c-1e47c37c9ec7",
   "metadata": {},
   "source": [
    "## Yearly Stats"
   ]
  },
  {
   "cell_type": "code",
   "execution_count": 18,
   "id": "c3a6ad69-499e-41d1-8226-4cc655762763",
   "metadata": {},
   "outputs": [],
   "source": [
    "# starting with just one center, datum data! \n",
    "datum_data = texts.where(texts['name'] == \"Datum Data Co. Ltd.\").dropna(how=\"all\")"
   ]
  },
  {
   "cell_type": "code",
   "execution_count": 25,
   "id": "d873b796-46cf-49c6-bd71-b7bcc440e2a3",
   "metadata": {},
   "outputs": [
    {
     "data": {
      "text/plain": [
       "159"
      ]
     },
     "execution_count": 25,
     "metadata": {},
     "output_type": "execute_result"
    }
   ],
   "source": [
    "# number of workers ever working \n",
    "len(datum_data['operator'].unique().tolist())"
   ]
  },
  {
   "cell_type": "markdown",
   "id": "c9654558-ee91-471f-b2af-4baf1efdfc90",
   "metadata": {},
   "source": [
    "### Scans per year"
   ]
  },
  {
   "cell_type": "code",
   "execution_count": 43,
   "id": "4b90cc9a-1692-455e-afc1-b11684709473",
   "metadata": {},
   "outputs": [],
   "source": [
    "texts['year'] = pd.to_datetime(texts['scandate']).dt.to_period('Y').astype('str')"
   ]
  },
  {
   "cell_type": "code",
   "execution_count": 44,
   "id": "a6f7682f-c867-4ab2-92f3-8c6b7916d39e",
   "metadata": {},
   "outputs": [],
   "source": [
    "annual_scans = texts[['name', 'year', 'identifier']]\n"
   ]
  },
  {
   "cell_type": "code",
   "execution_count": 45,
   "id": "fa8387bd-5287-48cc-989a-f4c8b8fccbee",
   "metadata": {},
   "outputs": [
    {
     "data": {
      "text/html": [
       "<div>\n",
       "<style scoped>\n",
       "    .dataframe tbody tr th:only-of-type {\n",
       "        vertical-align: middle;\n",
       "    }\n",
       "\n",
       "    .dataframe tbody tr th {\n",
       "        vertical-align: top;\n",
       "    }\n",
       "\n",
       "    .dataframe thead th {\n",
       "        text-align: right;\n",
       "    }\n",
       "</style>\n",
       "<table border=\"1\" class=\"dataframe\">\n",
       "  <thead>\n",
       "    <tr style=\"text-align: right;\">\n",
       "      <th></th>\n",
       "      <th>name</th>\n",
       "      <th>year</th>\n",
       "      <th>identifier</th>\n",
       "    </tr>\n",
       "  </thead>\n",
       "  <tbody>\n",
       "    <tr>\n",
       "      <th>0</th>\n",
       "      <td>Datum Data Co. Ltd.</td>\n",
       "      <td>2013</td>\n",
       "      <td>geometrysuccessi00thom</td>\n",
       "    </tr>\n",
       "    <tr>\n",
       "      <th>1</th>\n",
       "      <td>Datum Data Co. Ltd.</td>\n",
       "      <td>2012</td>\n",
       "      <td>berdiemobilittde00hebe</td>\n",
       "    </tr>\n",
       "    <tr>\n",
       "      <th>2</th>\n",
       "      <td>Datum Data Co. Ltd.</td>\n",
       "      <td>2011</td>\n",
       "      <td>beilsteinshandb28beil</td>\n",
       "    </tr>\n",
       "    <tr>\n",
       "      <th>3</th>\n",
       "      <td>Datum Data Co. Ltd.</td>\n",
       "      <td>2012</td>\n",
       "      <td>theoryapplicatio00adva</td>\n",
       "    </tr>\n",
       "    <tr>\n",
       "      <th>4</th>\n",
       "      <td>Datum Data Co. Ltd.</td>\n",
       "      <td>2012</td>\n",
       "      <td>specialeditionus00edbo_0</td>\n",
       "    </tr>\n",
       "    <tr>\n",
       "      <th>...</th>\n",
       "      <td>...</td>\n",
       "      <td>...</td>\n",
       "      <td>...</td>\n",
       "    </tr>\n",
       "    <tr>\n",
       "      <th>9029407</th>\n",
       "      <td>Perpustakaan Provinsi Bali</td>\n",
       "      <td>2012</td>\n",
       "      <td>pratekaning-wong-mara-mandeg</td>\n",
       "    </tr>\n",
       "    <tr>\n",
       "      <th>9029408</th>\n",
       "      <td>Perpustakaan Provinsi Bali</td>\n",
       "      <td>2012</td>\n",
       "      <td>kramaning-caru-bang-bonggalan</td>\n",
       "    </tr>\n",
       "    <tr>\n",
       "      <th>9029409</th>\n",
       "      <td>Perpustakaan Provinsi Bali</td>\n",
       "      <td>2012</td>\n",
       "      <td>puja-parikrama-panigang-sasih</td>\n",
       "    </tr>\n",
       "    <tr>\n",
       "      <th>9029410</th>\n",
       "      <td>Perpustakaan Provinsi Bali</td>\n",
       "      <td>2012</td>\n",
       "      <td>puja-pancasanak-buda</td>\n",
       "    </tr>\n",
       "    <tr>\n",
       "      <th>9029411</th>\n",
       "      <td>Perpustakaan Provinsi Bali</td>\n",
       "      <td>2012</td>\n",
       "      <td>arga-patra</td>\n",
       "    </tr>\n",
       "  </tbody>\n",
       "</table>\n",
       "<p>9029412 rows × 3 columns</p>\n",
       "</div>"
      ],
      "text/plain": [
       "                               name  year                     identifier\n",
       "0               Datum Data Co. Ltd.  2013         geometrysuccessi00thom\n",
       "1               Datum Data Co. Ltd.  2012         berdiemobilittde00hebe\n",
       "2               Datum Data Co. Ltd.  2011          beilsteinshandb28beil\n",
       "3               Datum Data Co. Ltd.  2012         theoryapplicatio00adva\n",
       "4               Datum Data Co. Ltd.  2012       specialeditionus00edbo_0\n",
       "...                             ...   ...                            ...\n",
       "9029407  Perpustakaan Provinsi Bali  2012   pratekaning-wong-mara-mandeg\n",
       "9029408  Perpustakaan Provinsi Bali  2012  kramaning-caru-bang-bonggalan\n",
       "9029409  Perpustakaan Provinsi Bali  2012  puja-parikrama-panigang-sasih\n",
       "9029410  Perpustakaan Provinsi Bali  2012           puja-pancasanak-buda\n",
       "9029411  Perpustakaan Provinsi Bali  2012                     arga-patra\n",
       "\n",
       "[9029412 rows x 3 columns]"
      ]
     },
     "execution_count": 45,
     "metadata": {},
     "output_type": "execute_result"
    }
   ],
   "source": [
    "annual_scans"
   ]
  },
  {
   "cell_type": "code",
   "execution_count": 46,
   "id": "779701e5-ef83-42c0-96a4-758612baed25",
   "metadata": {},
   "outputs": [],
   "source": [
    "annual_scans = annual_scans.groupby(['name', 'year']).count().reset_index()\n",
    "annual_scans = annual_scans.loc[annual_scans['year'] != 'NaT']\n",
    "\n"
   ]
  },
  {
   "cell_type": "code",
   "execution_count": 47,
   "id": "0ab5e394-30e1-4697-a213-4bf627cc16bc",
   "metadata": {},
   "outputs": [],
   "source": [
    "annual_scans = annual_scans.rename(columns={'name':'name', 'year': 'year', 'identifier':'books_scanned'})"
   ]
  },
  {
   "cell_type": "code",
   "execution_count": 50,
   "id": "3484f95b-cc61-44f7-a5ca-7bee6459ab36",
   "metadata": {},
   "outputs": [],
   "source": [
    "annual_scans.to_csv(\"/Users/elizabethschwartz/Documents/GitHub/ia_scanning_labor_data/metadata-analysis/metadata-records-analysis-csvs/annual_scans_per_center.csv\")"
   ]
  },
  {
   "cell_type": "markdown",
   "id": "4eb88b8f-71b6-48ba-8203-45f256291fa9",
   "metadata": {},
   "source": [
    "### Pages per Year"
   ]
  },
  {
   "cell_type": "code",
   "execution_count": 64,
   "id": "728cef04-a18c-4650-b71c-c26685c72251",
   "metadata": {},
   "outputs": [],
   "source": [
    "pages_scan = texts[['name', 'year', 'imagecount']].dropna(subset=['imagecount'])\n",
    "\n"
   ]
  },
  {
   "cell_type": "code",
   "execution_count": 65,
   "id": "00d94584-1595-4531-ba3f-8ca803056250",
   "metadata": {},
   "outputs": [
    {
     "data": {
      "text/html": [
       "<div>\n",
       "<style scoped>\n",
       "    .dataframe tbody tr th:only-of-type {\n",
       "        vertical-align: middle;\n",
       "    }\n",
       "\n",
       "    .dataframe tbody tr th {\n",
       "        vertical-align: top;\n",
       "    }\n",
       "\n",
       "    .dataframe thead th {\n",
       "        text-align: right;\n",
       "    }\n",
       "</style>\n",
       "<table border=\"1\" class=\"dataframe\">\n",
       "  <thead>\n",
       "    <tr style=\"text-align: right;\">\n",
       "      <th></th>\n",
       "      <th>name</th>\n",
       "      <th>year</th>\n",
       "      <th>imagecount</th>\n",
       "    </tr>\n",
       "  </thead>\n",
       "  <tbody>\n",
       "    <tr>\n",
       "      <th>0</th>\n",
       "      <td>1 Dollar Scan</td>\n",
       "      <td>NaT</td>\n",
       "      <td>627.0</td>\n",
       "    </tr>\n",
       "    <tr>\n",
       "      <th>1</th>\n",
       "      <td>Allen County Public Library Geneaology Center</td>\n",
       "      <td>2002</td>\n",
       "      <td>1366.0</td>\n",
       "    </tr>\n",
       "    <tr>\n",
       "      <th>2</th>\n",
       "      <td>Allen County Public Library Geneaology Center</td>\n",
       "      <td>2008</td>\n",
       "      <td>1933243.0</td>\n",
       "    </tr>\n",
       "    <tr>\n",
       "      <th>3</th>\n",
       "      <td>Allen County Public Library Geneaology Center</td>\n",
       "      <td>2009</td>\n",
       "      <td>3488177.0</td>\n",
       "    </tr>\n",
       "    <tr>\n",
       "      <th>4</th>\n",
       "      <td>Allen County Public Library Geneaology Center</td>\n",
       "      <td>2010</td>\n",
       "      <td>3919992.0</td>\n",
       "    </tr>\n",
       "    <tr>\n",
       "      <th>...</th>\n",
       "      <td>...</td>\n",
       "      <td>...</td>\n",
       "      <td>...</td>\n",
       "    </tr>\n",
       "    <tr>\n",
       "      <th>599</th>\n",
       "      <td>Yiddish Book Center</td>\n",
       "      <td>2011</td>\n",
       "      <td>12854.0</td>\n",
       "    </tr>\n",
       "    <tr>\n",
       "      <th>600</th>\n",
       "      <td>Yiddish Book Center</td>\n",
       "      <td>2012</td>\n",
       "      <td>117137.0</td>\n",
       "    </tr>\n",
       "    <tr>\n",
       "      <th>601</th>\n",
       "      <td>Yiddish Book Center</td>\n",
       "      <td>2013</td>\n",
       "      <td>58942.0</td>\n",
       "    </tr>\n",
       "    <tr>\n",
       "      <th>602</th>\n",
       "      <td>Yiddish Book Center</td>\n",
       "      <td>NaT</td>\n",
       "      <td>29945.0</td>\n",
       "    </tr>\n",
       "    <tr>\n",
       "      <th>603</th>\n",
       "      <td>Zhejiang University</td>\n",
       "      <td>2011</td>\n",
       "      <td>10.0</td>\n",
       "    </tr>\n",
       "  </tbody>\n",
       "</table>\n",
       "<p>604 rows × 3 columns</p>\n",
       "</div>"
      ],
      "text/plain": [
       "                                              name  year  imagecount\n",
       "0                                    1 Dollar Scan   NaT       627.0\n",
       "1    Allen County Public Library Geneaology Center  2002      1366.0\n",
       "2    Allen County Public Library Geneaology Center  2008   1933243.0\n",
       "3    Allen County Public Library Geneaology Center  2009   3488177.0\n",
       "4    Allen County Public Library Geneaology Center  2010   3919992.0\n",
       "..                                             ...   ...         ...\n",
       "599                            Yiddish Book Center  2011     12854.0\n",
       "600                            Yiddish Book Center  2012    117137.0\n",
       "601                            Yiddish Book Center  2013     58942.0\n",
       "602                            Yiddish Book Center   NaT     29945.0\n",
       "603                            Zhejiang University  2011        10.0\n",
       "\n",
       "[604 rows x 3 columns]"
      ]
     },
     "execution_count": 65,
     "metadata": {},
     "output_type": "execute_result"
    }
   ],
   "source": [
    "pages_scan.groupby(['name', 'year']).sum().reset_index()\n",
    "\n"
   ]
  },
  {
   "cell_type": "code",
   "execution_count": 68,
   "id": "869df6ab-98ac-4af0-879b-fb4b41354e0f",
   "metadata": {},
   "outputs": [
    {
     "data": {
      "text/html": [
       "<div>\n",
       "<style scoped>\n",
       "    .dataframe tbody tr th:only-of-type {\n",
       "        vertical-align: middle;\n",
       "    }\n",
       "\n",
       "    .dataframe tbody tr th {\n",
       "        vertical-align: top;\n",
       "    }\n",
       "\n",
       "    .dataframe thead th {\n",
       "        text-align: right;\n",
       "    }\n",
       "</style>\n",
       "<table border=\"1\" class=\"dataframe\">\n",
       "  <thead>\n",
       "    <tr style=\"text-align: right;\">\n",
       "      <th></th>\n",
       "      <th>name</th>\n",
       "      <th>year</th>\n",
       "      <th>imagecount</th>\n",
       "    </tr>\n",
       "  </thead>\n",
       "  <tbody>\n",
       "    <tr>\n",
       "      <th>0</th>\n",
       "      <td>Datum Data Co. Ltd.</td>\n",
       "      <td>2013</td>\n",
       "      <td>200.0</td>\n",
       "    </tr>\n",
       "    <tr>\n",
       "      <th>1</th>\n",
       "      <td>Datum Data Co. Ltd.</td>\n",
       "      <td>2012</td>\n",
       "      <td>250.0</td>\n",
       "    </tr>\n",
       "    <tr>\n",
       "      <th>2</th>\n",
       "      <td>Datum Data Co. Ltd.</td>\n",
       "      <td>2011</td>\n",
       "      <td>962.0</td>\n",
       "    </tr>\n",
       "    <tr>\n",
       "      <th>3</th>\n",
       "      <td>Datum Data Co. Ltd.</td>\n",
       "      <td>2012</td>\n",
       "      <td>590.0</td>\n",
       "    </tr>\n",
       "    <tr>\n",
       "      <th>4</th>\n",
       "      <td>Datum Data Co. Ltd.</td>\n",
       "      <td>2012</td>\n",
       "      <td>888.0</td>\n",
       "    </tr>\n",
       "    <tr>\n",
       "      <th>...</th>\n",
       "      <td>...</td>\n",
       "      <td>...</td>\n",
       "      <td>...</td>\n",
       "    </tr>\n",
       "    <tr>\n",
       "      <th>9029156</th>\n",
       "      <td>Perpustakaan Provinsi Bali</td>\n",
       "      <td>2012</td>\n",
       "      <td>58.0</td>\n",
       "    </tr>\n",
       "    <tr>\n",
       "      <th>9029180</th>\n",
       "      <td>Perpustakaan Provinsi Bali</td>\n",
       "      <td>2012</td>\n",
       "      <td>71.0</td>\n",
       "    </tr>\n",
       "    <tr>\n",
       "      <th>9029255</th>\n",
       "      <td>Perpustakaan Provinsi Bali</td>\n",
       "      <td>2012</td>\n",
       "      <td>25.0</td>\n",
       "    </tr>\n",
       "    <tr>\n",
       "      <th>9029264</th>\n",
       "      <td>Perpustakaan Provinsi Bali</td>\n",
       "      <td>2012</td>\n",
       "      <td>114.0</td>\n",
       "    </tr>\n",
       "    <tr>\n",
       "      <th>9029362</th>\n",
       "      <td>Perpustakaan Provinsi Bali</td>\n",
       "      <td>2012</td>\n",
       "      <td>37.0</td>\n",
       "    </tr>\n",
       "  </tbody>\n",
       "</table>\n",
       "<p>6794678 rows × 3 columns</p>\n",
       "</div>"
      ],
      "text/plain": [
       "                               name  year  imagecount\n",
       "0               Datum Data Co. Ltd.  2013       200.0\n",
       "1               Datum Data Co. Ltd.  2012       250.0\n",
       "2               Datum Data Co. Ltd.  2011       962.0\n",
       "3               Datum Data Co. Ltd.  2012       590.0\n",
       "4               Datum Data Co. Ltd.  2012       888.0\n",
       "...                             ...   ...         ...\n",
       "9029156  Perpustakaan Provinsi Bali  2012        58.0\n",
       "9029180  Perpustakaan Provinsi Bali  2012        71.0\n",
       "9029255  Perpustakaan Provinsi Bali  2012        25.0\n",
       "9029264  Perpustakaan Provinsi Bali  2012       114.0\n",
       "9029362  Perpustakaan Provinsi Bali  2012        37.0\n",
       "\n",
       "[6794678 rows x 3 columns]"
      ]
     },
     "execution_count": 68,
     "metadata": {},
     "output_type": "execute_result"
    }
   ],
   "source": [
    "pages_scan = pages_scan.drop(pages_scan[pages_scan.year == \"NaT\"].index)"
   ]
  },
  {
   "cell_type": "code",
   "execution_count": 69,
   "id": "eb9c259c-b7bd-402f-8549-98538e73ff8c",
   "metadata": {},
   "outputs": [],
   "source": [
    "pages_scan.to_csv(\"/Users/elizabethschwartz/Documents/GitHub/ia_scanning_labor_data/metadata-analysis/metadata-records-analysis-csvs/annual_pages_scanned_per_center.csv\")\n"
   ]
  },
  {
   "cell_type": "code",
   "execution_count": null,
   "id": "06adbeb4-b1ed-400b-8e0e-5b63b52825be",
   "metadata": {},
   "outputs": [],
   "source": []
  }
 ],
 "metadata": {
  "kernelspec": {
   "display_name": "Python 3 (ipykernel)",
   "language": "python",
   "name": "python3"
  },
  "language_info": {
   "codemirror_mode": {
    "name": "ipython",
    "version": 3
   },
   "file_extension": ".py",
   "mimetype": "text/x-python",
   "name": "python",
   "nbconvert_exporter": "python",
   "pygments_lexer": "ipython3",
   "version": "3.12.4"
  }
 },
 "nbformat": 4,
 "nbformat_minor": 5
}
