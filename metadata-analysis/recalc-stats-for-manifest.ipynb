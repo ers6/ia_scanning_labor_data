{
 "cells": [
  {
   "cell_type": "markdown",
   "id": "1199c38c-762c-41cd-bf89-86c35d8fc850",
   "metadata": {},
   "source": [
    "# Recalculate Stats for Manifest\n",
    "Because manifest can't display times on a month to month rolling basis, we need to recalculate stats for the whole dataset. \n",
    "We can do this by getting full data (not reflective of time) and getting data for each center per year so that we can see the evolution of the supply chain overtime. "
   ]
  },
  {
   "cell_type": "code",
   "execution_count": 7,
   "id": "1738f5c0-4ade-497e-a852-129a2707e635",
   "metadata": {},
   "outputs": [],
   "source": [
    "import pandas as pd\n",
    "import os"
   ]
  },
  {
   "cell_type": "code",
   "execution_count": 3,
   "id": "69151926-ff9e-4f23-ba35-c24ec53f1959",
   "metadata": {},
   "outputs": [],
   "source": [
    "texts = pd.read_csv('/Volumes/Samsung_T5/scanning_labor_in_IA/geocoded-texts-data.csv', low_memory=False).drop(columns=['Unnamed: 0.3', 'Unnamed: 0.2', 'Unnamed: 0.1', 'Unnamed: 0'])"
   ]
  },
  {
   "cell_type": "markdown",
   "id": "5fee4a99-4f0b-4cfa-8589-c00425de4b35",
   "metadata": {},
   "source": [
    "## Create Subdirectories for Centers"
   ]
  },
  {
   "cell_type": "code",
   "execution_count": 6,
   "id": "de89d07d-b844-4e72-b8d3-4822843fe27b",
   "metadata": {},
   "outputs": [],
   "source": [
    "center_names = texts['name'].unique()"
   ]
  },
  {
   "cell_type": "code",
   "execution_count": 8,
   "id": "2ce3c4f4-9677-4467-bc2d-11bb0caee326",
   "metadata": {},
   "outputs": [],
   "source": [
    "file_path = \"/Users/elizabethschwartz/Documents/GitHub/ia_scanning_labor_data/metadata-analysis/metadata-records-analysis-csvs/annual_stats/\""
   ]
  },
  {
   "cell_type": "code",
   "execution_count": 11,
   "id": "ee420267-edce-43a1-ad66-da26cb7a2209",
   "metadata": {},
   "outputs": [],
   "source": [
    "subdirs = []\n",
    "for name in center_names: \n",
    "    subdirs.append(name.lower().replace(\" \", \"_\").replace('.','').replace(',',''))"
   ]
  },
  {
   "cell_type": "code",
   "execution_count": 13,
   "id": "5cfa07f7-b307-480f-b20f-c7b06942c001",
   "metadata": {},
   "outputs": [],
   "source": [
    "for this_dir in subdirs: \n",
    "    os.mkdir(file_path+this_dir)\n",
    "    "
   ]
  },
  {
   "cell_type": "code",
   "execution_count": 14,
   "id": "9fd5fd5e-18f5-4e54-a787-1ba23bcdd27e",
   "metadata": {},
   "outputs": [],
   "source": [
    "def get_path(center_name): \n",
    "    return file_path + center_name.lower().replace(\" \", \"_\").replace('.','').replace(',','')"
   ]
  },
  {
   "cell_type": "markdown",
   "id": "1fd00f32-e8fb-4c34-af6c-1e47c37c9ec7",
   "metadata": {},
   "source": [
    "## Yearly Stats"
   ]
  },
  {
   "cell_type": "code",
   "execution_count": 18,
   "id": "c3a6ad69-499e-41d1-8226-4cc655762763",
   "metadata": {},
   "outputs": [],
   "source": [
    "# starting with just one center, datum data! \n",
    "datum_data = texts.where(texts['name'] == \"Datum Data Co. Ltd.\").dropna(how=\"all\")"
   ]
  },
  {
   "cell_type": "code",
   "execution_count": 25,
   "id": "d873b796-46cf-49c6-bd71-b7bcc440e2a3",
   "metadata": {},
   "outputs": [
    {
     "data": {
      "text/plain": [
       "159"
      ]
     },
     "execution_count": 25,
     "metadata": {},
     "output_type": "execute_result"
    }
   ],
   "source": [
    "# number of workers ever working \n",
    "len(datum_data['operator'].unique().tolist())"
   ]
  },
  {
   "cell_type": "markdown",
   "id": "c9654558-ee91-471f-b2af-4baf1efdfc90",
   "metadata": {},
   "source": [
    "### Scans per year"
   ]
  },
  {
   "cell_type": "code",
   "execution_count": 17,
   "id": "4b90cc9a-1692-455e-afc1-b11684709473",
   "metadata": {},
   "outputs": [],
   "source": [
    "texts['year'] = pd.to_datetime(texts['scandate']).dt.to_period('Y').astype('str')"
   ]
  },
  {
   "cell_type": "code",
   "execution_count": 18,
   "id": "a6f7682f-c867-4ab2-92f3-8c6b7916d39e",
   "metadata": {},
   "outputs": [],
   "source": [
    "annual_scans = texts[['name', 'year', 'identifier']]\n"
   ]
  },
  {
   "cell_type": "code",
   "execution_count": 19,
   "id": "fa8387bd-5287-48cc-989a-f4c8b8fccbee",
   "metadata": {},
   "outputs": [
    {
     "data": {
      "text/html": [
       "<div>\n",
       "<style scoped>\n",
       "    .dataframe tbody tr th:only-of-type {\n",
       "        vertical-align: middle;\n",
       "    }\n",
       "\n",
       "    .dataframe tbody tr th {\n",
       "        vertical-align: top;\n",
       "    }\n",
       "\n",
       "    .dataframe thead th {\n",
       "        text-align: right;\n",
       "    }\n",
       "</style>\n",
       "<table border=\"1\" class=\"dataframe\">\n",
       "  <thead>\n",
       "    <tr style=\"text-align: right;\">\n",
       "      <th></th>\n",
       "      <th>name</th>\n",
       "      <th>year</th>\n",
       "      <th>identifier</th>\n",
       "    </tr>\n",
       "  </thead>\n",
       "  <tbody>\n",
       "    <tr>\n",
       "      <th>0</th>\n",
       "      <td>Datum Data Co. Ltd.</td>\n",
       "      <td>2013</td>\n",
       "      <td>geometrysuccessi00thom</td>\n",
       "    </tr>\n",
       "    <tr>\n",
       "      <th>1</th>\n",
       "      <td>Datum Data Co. Ltd.</td>\n",
       "      <td>2012</td>\n",
       "      <td>berdiemobilittde00hebe</td>\n",
       "    </tr>\n",
       "    <tr>\n",
       "      <th>2</th>\n",
       "      <td>Datum Data Co. Ltd.</td>\n",
       "      <td>2011</td>\n",
       "      <td>beilsteinshandb28beil</td>\n",
       "    </tr>\n",
       "    <tr>\n",
       "      <th>3</th>\n",
       "      <td>Datum Data Co. Ltd.</td>\n",
       "      <td>2012</td>\n",
       "      <td>theoryapplicatio00adva</td>\n",
       "    </tr>\n",
       "    <tr>\n",
       "      <th>4</th>\n",
       "      <td>Datum Data Co. Ltd.</td>\n",
       "      <td>2012</td>\n",
       "      <td>specialeditionus00edbo_0</td>\n",
       "    </tr>\n",
       "    <tr>\n",
       "      <th>...</th>\n",
       "      <td>...</td>\n",
       "      <td>...</td>\n",
       "      <td>...</td>\n",
       "    </tr>\n",
       "    <tr>\n",
       "      <th>9029407</th>\n",
       "      <td>Perpustakaan Provinsi Bali</td>\n",
       "      <td>2012</td>\n",
       "      <td>pratekaning-wong-mara-mandeg</td>\n",
       "    </tr>\n",
       "    <tr>\n",
       "      <th>9029408</th>\n",
       "      <td>Perpustakaan Provinsi Bali</td>\n",
       "      <td>2012</td>\n",
       "      <td>kramaning-caru-bang-bonggalan</td>\n",
       "    </tr>\n",
       "    <tr>\n",
       "      <th>9029409</th>\n",
       "      <td>Perpustakaan Provinsi Bali</td>\n",
       "      <td>2012</td>\n",
       "      <td>puja-parikrama-panigang-sasih</td>\n",
       "    </tr>\n",
       "    <tr>\n",
       "      <th>9029410</th>\n",
       "      <td>Perpustakaan Provinsi Bali</td>\n",
       "      <td>2012</td>\n",
       "      <td>puja-pancasanak-buda</td>\n",
       "    </tr>\n",
       "    <tr>\n",
       "      <th>9029411</th>\n",
       "      <td>Perpustakaan Provinsi Bali</td>\n",
       "      <td>2012</td>\n",
       "      <td>arga-patra</td>\n",
       "    </tr>\n",
       "  </tbody>\n",
       "</table>\n",
       "<p>9029412 rows × 3 columns</p>\n",
       "</div>"
      ],
      "text/plain": [
       "                               name  year                     identifier\n",
       "0               Datum Data Co. Ltd.  2013         geometrysuccessi00thom\n",
       "1               Datum Data Co. Ltd.  2012         berdiemobilittde00hebe\n",
       "2               Datum Data Co. Ltd.  2011          beilsteinshandb28beil\n",
       "3               Datum Data Co. Ltd.  2012         theoryapplicatio00adva\n",
       "4               Datum Data Co. Ltd.  2012       specialeditionus00edbo_0\n",
       "...                             ...   ...                            ...\n",
       "9029407  Perpustakaan Provinsi Bali  2012   pratekaning-wong-mara-mandeg\n",
       "9029408  Perpustakaan Provinsi Bali  2012  kramaning-caru-bang-bonggalan\n",
       "9029409  Perpustakaan Provinsi Bali  2012  puja-parikrama-panigang-sasih\n",
       "9029410  Perpustakaan Provinsi Bali  2012           puja-pancasanak-buda\n",
       "9029411  Perpustakaan Provinsi Bali  2012                     arga-patra\n",
       "\n",
       "[9029412 rows x 3 columns]"
      ]
     },
     "execution_count": 19,
     "metadata": {},
     "output_type": "execute_result"
    }
   ],
   "source": [
    "annual_scans"
   ]
  },
  {
   "cell_type": "code",
   "execution_count": 20,
   "id": "779701e5-ef83-42c0-96a4-758612baed25",
   "metadata": {},
   "outputs": [],
   "source": [
    "annual_scans = annual_scans.groupby(['name', 'year']).count().reset_index()\n",
    "annual_scans = annual_scans.loc[annual_scans['year'] != 'NaT']\n",
    "\n"
   ]
  },
  {
   "cell_type": "code",
   "execution_count": 21,
   "id": "0ab5e394-30e1-4697-a213-4bf627cc16bc",
   "metadata": {},
   "outputs": [],
   "source": [
    "annual_scans = annual_scans.rename(columns={'name':'name', 'year': 'year', 'identifier':'books_scanned'})"
   ]
  },
  {
   "cell_type": "code",
   "execution_count": 30,
   "id": "12ce2d55-f936-427c-befd-88e61a03f325",
   "metadata": {},
   "outputs": [
    {
     "data": {
      "text/html": [
       "<div>\n",
       "<style scoped>\n",
       "    .dataframe tbody tr th:only-of-type {\n",
       "        vertical-align: middle;\n",
       "    }\n",
       "\n",
       "    .dataframe tbody tr th {\n",
       "        vertical-align: top;\n",
       "    }\n",
       "\n",
       "    .dataframe thead th {\n",
       "        text-align: right;\n",
       "    }\n",
       "</style>\n",
       "<table border=\"1\" class=\"dataframe\">\n",
       "  <thead>\n",
       "    <tr style=\"text-align: right;\">\n",
       "      <th></th>\n",
       "      <th>name</th>\n",
       "      <th>year</th>\n",
       "      <th>books_scanned</th>\n",
       "    </tr>\n",
       "  </thead>\n",
       "  <tbody>\n",
       "    <tr>\n",
       "      <th>1</th>\n",
       "      <td>Allen County Public Library Geneaology Center</td>\n",
       "      <td>2002</td>\n",
       "      <td>4</td>\n",
       "    </tr>\n",
       "    <tr>\n",
       "      <th>2</th>\n",
       "      <td>Allen County Public Library Geneaology Center</td>\n",
       "      <td>2008</td>\n",
       "      <td>4255</td>\n",
       "    </tr>\n",
       "    <tr>\n",
       "      <th>3</th>\n",
       "      <td>Allen County Public Library Geneaology Center</td>\n",
       "      <td>2009</td>\n",
       "      <td>9908</td>\n",
       "    </tr>\n",
       "    <tr>\n",
       "      <th>4</th>\n",
       "      <td>Allen County Public Library Geneaology Center</td>\n",
       "      <td>2010</td>\n",
       "      <td>16870</td>\n",
       "    </tr>\n",
       "    <tr>\n",
       "      <th>5</th>\n",
       "      <td>Allen County Public Library Geneaology Center</td>\n",
       "      <td>2011</td>\n",
       "      <td>22833</td>\n",
       "    </tr>\n",
       "    <tr>\n",
       "      <th>...</th>\n",
       "      <td>...</td>\n",
       "      <td>...</td>\n",
       "      <td>...</td>\n",
       "    </tr>\n",
       "    <tr>\n",
       "      <th>618</th>\n",
       "      <td>Washington University in St. Louis</td>\n",
       "      <td>2023</td>\n",
       "      <td>841</td>\n",
       "    </tr>\n",
       "    <tr>\n",
       "      <th>620</th>\n",
       "      <td>Yiddish Book Center</td>\n",
       "      <td>2011</td>\n",
       "      <td>80</td>\n",
       "    </tr>\n",
       "    <tr>\n",
       "      <th>621</th>\n",
       "      <td>Yiddish Book Center</td>\n",
       "      <td>2012</td>\n",
       "      <td>672</td>\n",
       "    </tr>\n",
       "    <tr>\n",
       "      <th>622</th>\n",
       "      <td>Yiddish Book Center</td>\n",
       "      <td>2013</td>\n",
       "      <td>344</td>\n",
       "    </tr>\n",
       "    <tr>\n",
       "      <th>624</th>\n",
       "      <td>Zhejiang University</td>\n",
       "      <td>2011</td>\n",
       "      <td>1</td>\n",
       "    </tr>\n",
       "  </tbody>\n",
       "</table>\n",
       "<p>558 rows × 3 columns</p>\n",
       "</div>"
      ],
      "text/plain": [
       "                                              name  year  books_scanned\n",
       "1    Allen County Public Library Geneaology Center  2002              4\n",
       "2    Allen County Public Library Geneaology Center  2008           4255\n",
       "3    Allen County Public Library Geneaology Center  2009           9908\n",
       "4    Allen County Public Library Geneaology Center  2010          16870\n",
       "5    Allen County Public Library Geneaology Center  2011          22833\n",
       "..                                             ...   ...            ...\n",
       "618             Washington University in St. Louis  2023            841\n",
       "620                            Yiddish Book Center  2011             80\n",
       "621                            Yiddish Book Center  2012            672\n",
       "622                            Yiddish Book Center  2013            344\n",
       "624                            Zhejiang University  2011              1\n",
       "\n",
       "[558 rows x 3 columns]"
      ]
     },
     "execution_count": 30,
     "metadata": {},
     "output_type": "execute_result"
    }
   ],
   "source": [
    "annual_scans"
   ]
  },
  {
   "cell_type": "code",
   "execution_count": 22,
   "id": "3484f95b-cc61-44f7-a5ca-7bee6459ab36",
   "metadata": {},
   "outputs": [],
   "source": [
    "# annual_scans.to_csv(\"/Users/elizabethschwartz/Documents/GitHub/ia_scanning_labor_data/metadata-analysis/metadata-records-analysis-csvs/annual_scans_per_center.csv\")"
   ]
  },
  {
   "cell_type": "code",
   "execution_count": 25,
   "id": "64ca4930-710d-4f7f-8dd6-702468c210f2",
   "metadata": {},
   "outputs": [],
   "source": [
    "for this_center in center_names: \n",
    "    center_data = annual_scans.loc[annual_scans['name'] == this_center]\n",
    "    center_data.to_csv(get_path(this_center)+ '/annual_scans.csv')"
   ]
  },
  {
   "cell_type": "markdown",
   "id": "4eb88b8f-71b6-48ba-8203-45f256291fa9",
   "metadata": {},
   "source": [
    "### Pages per Year"
   ]
  },
  {
   "cell_type": "code",
   "execution_count": 36,
   "id": "728cef04-a18c-4650-b71c-c26685c72251",
   "metadata": {},
   "outputs": [
    {
     "ename": "KeyError",
     "evalue": "\"The following id_vars or value_vars are not present in the DataFrame: [('name', 'year')]\"",
     "output_type": "error",
     "traceback": [
      "\u001b[0;31m---------------------------------------------------------------------------\u001b[0m",
      "\u001b[0;31mKeyError\u001b[0m                                  Traceback (most recent call last)",
      "Cell \u001b[0;32mIn[36], line 3\u001b[0m\n\u001b[1;32m      1\u001b[0m pages_scan \u001b[38;5;241m=\u001b[39m texts[[\u001b[38;5;124m'\u001b[39m\u001b[38;5;124mname\u001b[39m\u001b[38;5;124m'\u001b[39m, \u001b[38;5;124m'\u001b[39m\u001b[38;5;124myear\u001b[39m\u001b[38;5;124m'\u001b[39m, \u001b[38;5;124m'\u001b[39m\u001b[38;5;124mimagecount\u001b[39m\u001b[38;5;124m'\u001b[39m]]\u001b[38;5;241m.\u001b[39mdropna(subset\u001b[38;5;241m=\u001b[39m[\u001b[38;5;124m'\u001b[39m\u001b[38;5;124mimagecount\u001b[39m\u001b[38;5;124m'\u001b[39m])\n\u001b[0;32m----> 3\u001b[0m pd\u001b[38;5;241m.\u001b[39mmelt(pages_scan, id_vars\u001b[38;5;241m=\u001b[39m[(\u001b[38;5;124m'\u001b[39m\u001b[38;5;124mname\u001b[39m\u001b[38;5;124m'\u001b[39m, \u001b[38;5;124m'\u001b[39m\u001b[38;5;124myear\u001b[39m\u001b[38;5;124m'\u001b[39m)], value_vars\u001b[38;5;241m=\u001b[39m[\u001b[38;5;124m'\u001b[39m\u001b[38;5;124mimagecount\u001b[39m\u001b[38;5;124m'\u001b[39m])\n",
      "File \u001b[0;32m/opt/anaconda3/envs/data_analyzer/lib/python3.12/site-packages/pandas/core/reshape/melt.py:74\u001b[0m, in \u001b[0;36mmelt\u001b[0;34m(frame, id_vars, value_vars, var_name, value_name, col_level, ignore_index)\u001b[0m\n\u001b[1;32m     70\u001b[0m \u001b[38;5;28;01mif\u001b[39;00m missing\u001b[38;5;241m.\u001b[39many():\n\u001b[1;32m     71\u001b[0m     missing_labels \u001b[38;5;241m=\u001b[39m [\n\u001b[1;32m     72\u001b[0m         lab \u001b[38;5;28;01mfor\u001b[39;00m lab, not_found \u001b[38;5;129;01min\u001b[39;00m \u001b[38;5;28mzip\u001b[39m(labels, missing) \u001b[38;5;28;01mif\u001b[39;00m not_found\n\u001b[1;32m     73\u001b[0m     ]\n\u001b[0;32m---> 74\u001b[0m     \u001b[38;5;28;01mraise\u001b[39;00m \u001b[38;5;167;01mKeyError\u001b[39;00m(\n\u001b[1;32m     75\u001b[0m         \u001b[38;5;124m\"\u001b[39m\u001b[38;5;124mThe following id_vars or value_vars are not present in \u001b[39m\u001b[38;5;124m\"\u001b[39m\n\u001b[1;32m     76\u001b[0m         \u001b[38;5;124mf\u001b[39m\u001b[38;5;124m\"\u001b[39m\u001b[38;5;124mthe DataFrame: \u001b[39m\u001b[38;5;132;01m{\u001b[39;00mmissing_labels\u001b[38;5;132;01m}\u001b[39;00m\u001b[38;5;124m\"\u001b[39m\n\u001b[1;32m     77\u001b[0m     )\n\u001b[1;32m     78\u001b[0m \u001b[38;5;28;01mif\u001b[39;00m value_vars_was_not_none:\n\u001b[1;32m     79\u001b[0m     frame \u001b[38;5;241m=\u001b[39m frame\u001b[38;5;241m.\u001b[39miloc[:, algos\u001b[38;5;241m.\u001b[39munique(idx)]\n",
      "\u001b[0;31mKeyError\u001b[0m: \"The following id_vars or value_vars are not present in the DataFrame: [('name', 'year')]\""
     ]
    }
   ],
   "source": [
    "pages_scan = texts[['name', 'year', 'imagecount']].dropna(subset=['imagecount'])\n",
    "\n",
    "pd.melt(pages_scan, id_vars=[('name', 'year')], value_vars=['imagecount'])"
   ]
  },
  {
   "cell_type": "code",
   "execution_count": 37,
   "id": "00d94584-1595-4531-ba3f-8ca803056250",
   "metadata": {},
   "outputs": [
    {
     "data": {
      "text/html": [
       "<div>\n",
       "<style scoped>\n",
       "    .dataframe tbody tr th:only-of-type {\n",
       "        vertical-align: middle;\n",
       "    }\n",
       "\n",
       "    .dataframe tbody tr th {\n",
       "        vertical-align: top;\n",
       "    }\n",
       "\n",
       "    .dataframe thead th {\n",
       "        text-align: right;\n",
       "    }\n",
       "</style>\n",
       "<table border=\"1\" class=\"dataframe\">\n",
       "  <thead>\n",
       "    <tr style=\"text-align: right;\">\n",
       "      <th></th>\n",
       "      <th>name</th>\n",
       "      <th>year</th>\n",
       "      <th>imagecount</th>\n",
       "    </tr>\n",
       "  </thead>\n",
       "  <tbody>\n",
       "    <tr>\n",
       "      <th>5</th>\n",
       "      <td>Allen County Public Library Geneaology Center</td>\n",
       "      <td>2011</td>\n",
       "      <td>4564108.0</td>\n",
       "    </tr>\n",
       "    <tr>\n",
       "      <th>39</th>\n",
       "      <td>BYU, Hawaii</td>\n",
       "      <td>2011</td>\n",
       "      <td>28887.0</td>\n",
       "    </tr>\n",
       "    <tr>\n",
       "      <th>44</th>\n",
       "      <td>BYU, Idaho Family History Library</td>\n",
       "      <td>2011</td>\n",
       "      <td>35905.0</td>\n",
       "    </tr>\n",
       "    <tr>\n",
       "      <th>53</th>\n",
       "      <td>BYU, Provo</td>\n",
       "      <td>2011</td>\n",
       "      <td>1853797.0</td>\n",
       "    </tr>\n",
       "    <tr>\n",
       "      <th>72</th>\n",
       "      <td>Boston Public Library</td>\n",
       "      <td>2011</td>\n",
       "      <td>5613958.0</td>\n",
       "    </tr>\n",
       "    <tr>\n",
       "      <th>99</th>\n",
       "      <td>Brown University</td>\n",
       "      <td>2011</td>\n",
       "      <td>241975.0</td>\n",
       "    </tr>\n",
       "    <tr>\n",
       "      <th>116</th>\n",
       "      <td>California State Library</td>\n",
       "      <td>2011</td>\n",
       "      <td>85096.0</td>\n",
       "    </tr>\n",
       "    <tr>\n",
       "      <th>126</th>\n",
       "      <td>Church History Library</td>\n",
       "      <td>2011</td>\n",
       "      <td>170733.0</td>\n",
       "    </tr>\n",
       "    <tr>\n",
       "      <th>144</th>\n",
       "      <td>Columbia University</td>\n",
       "      <td>2011</td>\n",
       "      <td>1152491.0</td>\n",
       "    </tr>\n",
       "    <tr>\n",
       "      <th>148</th>\n",
       "      <td>Datum Data Co. Ltd.</td>\n",
       "      <td>2011</td>\n",
       "      <td>34429269.0</td>\n",
       "    </tr>\n",
       "    <tr>\n",
       "      <th>164</th>\n",
       "      <td>Duke University</td>\n",
       "      <td>2011</td>\n",
       "      <td>723075.0</td>\n",
       "    </tr>\n",
       "    <tr>\n",
       "      <th>222</th>\n",
       "      <td>Hong Kong</td>\n",
       "      <td>2011</td>\n",
       "      <td>2382.0</td>\n",
       "    </tr>\n",
       "    <tr>\n",
       "      <th>247</th>\n",
       "      <td>Internet Archive Headquarters</td>\n",
       "      <td>2011</td>\n",
       "      <td>8348.0</td>\n",
       "    </tr>\n",
       "    <tr>\n",
       "      <th>268</th>\n",
       "      <td>Internt Archive Physical Archive</td>\n",
       "      <td>2011</td>\n",
       "      <td>182.0</td>\n",
       "    </tr>\n",
       "    <tr>\n",
       "      <th>286</th>\n",
       "      <td>Library of Congress</td>\n",
       "      <td>2011</td>\n",
       "      <td>7138268.0</td>\n",
       "    </tr>\n",
       "    <tr>\n",
       "      <th>314</th>\n",
       "      <td>National Library of Scotland</td>\n",
       "      <td>2011</td>\n",
       "      <td>422648.0</td>\n",
       "    </tr>\n",
       "    <tr>\n",
       "      <th>324</th>\n",
       "      <td>Natural History Museum Library, London</td>\n",
       "      <td>2011</td>\n",
       "      <td>257209.0</td>\n",
       "    </tr>\n",
       "    <tr>\n",
       "      <th>364</th>\n",
       "      <td>Princeton University</td>\n",
       "      <td>2011</td>\n",
       "      <td>2727667.0</td>\n",
       "    </tr>\n",
       "    <tr>\n",
       "      <th>381</th>\n",
       "      <td>San Francisco Public Library</td>\n",
       "      <td>2011</td>\n",
       "      <td>157974.0</td>\n",
       "    </tr>\n",
       "    <tr>\n",
       "      <th>394</th>\n",
       "      <td>Smithsonian Libraries and Archives</td>\n",
       "      <td>2011</td>\n",
       "      <td>227034.0</td>\n",
       "    </tr>\n",
       "    <tr>\n",
       "      <th>424</th>\n",
       "      <td>The Archive of Contemporary Music</td>\n",
       "      <td>2011</td>\n",
       "      <td>166705.0</td>\n",
       "    </tr>\n",
       "    <tr>\n",
       "      <th>450</th>\n",
       "      <td>UCLA</td>\n",
       "      <td>2011</td>\n",
       "      <td>424794.0</td>\n",
       "    </tr>\n",
       "    <tr>\n",
       "      <th>469</th>\n",
       "      <td>UIUC</td>\n",
       "      <td>2011</td>\n",
       "      <td>732523.0</td>\n",
       "    </tr>\n",
       "    <tr>\n",
       "      <th>487</th>\n",
       "      <td>UNC Chapel Hill</td>\n",
       "      <td>2011</td>\n",
       "      <td>1329522.0</td>\n",
       "    </tr>\n",
       "    <tr>\n",
       "      <th>503</th>\n",
       "      <td>Universidad Francisco Marroquín</td>\n",
       "      <td>2011</td>\n",
       "      <td>55962.0</td>\n",
       "    </tr>\n",
       "    <tr>\n",
       "      <th>520</th>\n",
       "      <td>University of Alberta</td>\n",
       "      <td>2011</td>\n",
       "      <td>2041034.0</td>\n",
       "    </tr>\n",
       "    <tr>\n",
       "      <th>535</th>\n",
       "      <td>University of Chinese Academy of Sciences</td>\n",
       "      <td>2011</td>\n",
       "      <td>265264.0</td>\n",
       "    </tr>\n",
       "    <tr>\n",
       "      <th>561</th>\n",
       "      <td>University of Toronto</td>\n",
       "      <td>2011</td>\n",
       "      <td>16687365.0</td>\n",
       "    </tr>\n",
       "    <tr>\n",
       "      <th>599</th>\n",
       "      <td>Yiddish Book Center</td>\n",
       "      <td>2011</td>\n",
       "      <td>12854.0</td>\n",
       "    </tr>\n",
       "    <tr>\n",
       "      <th>603</th>\n",
       "      <td>Zhejiang University</td>\n",
       "      <td>2011</td>\n",
       "      <td>10.0</td>\n",
       "    </tr>\n",
       "  </tbody>\n",
       "</table>\n",
       "</div>"
      ],
      "text/plain": [
       "                                              name  year  imagecount\n",
       "5    Allen County Public Library Geneaology Center  2011   4564108.0\n",
       "39                                     BYU, Hawaii  2011     28887.0\n",
       "44               BYU, Idaho Family History Library  2011     35905.0\n",
       "53                                      BYU, Provo  2011   1853797.0\n",
       "72                           Boston Public Library  2011   5613958.0\n",
       "99                                Brown University  2011    241975.0\n",
       "116                       California State Library  2011     85096.0\n",
       "126                         Church History Library  2011    170733.0\n",
       "144                            Columbia University  2011   1152491.0\n",
       "148                            Datum Data Co. Ltd.  2011  34429269.0\n",
       "164                                Duke University  2011    723075.0\n",
       "222                                      Hong Kong  2011      2382.0\n",
       "247                  Internet Archive Headquarters  2011      8348.0\n",
       "268               Internt Archive Physical Archive  2011       182.0\n",
       "286                            Library of Congress  2011   7138268.0\n",
       "314                   National Library of Scotland  2011    422648.0\n",
       "324         Natural History Museum Library, London  2011    257209.0\n",
       "364                           Princeton University  2011   2727667.0\n",
       "381                   San Francisco Public Library  2011    157974.0\n",
       "394             Smithsonian Libraries and Archives  2011    227034.0\n",
       "424              The Archive of Contemporary Music  2011    166705.0\n",
       "450                                           UCLA  2011    424794.0\n",
       "469                                           UIUC  2011    732523.0\n",
       "487                                UNC Chapel Hill  2011   1329522.0\n",
       "503                Universidad Francisco Marroquín  2011     55962.0\n",
       "520                          University of Alberta  2011   2041034.0\n",
       "535      University of Chinese Academy of Sciences  2011    265264.0\n",
       "561                          University of Toronto  2011  16687365.0\n",
       "599                            Yiddish Book Center  2011     12854.0\n",
       "603                            Zhejiang University  2011        10.0"
      ]
     },
     "execution_count": 37,
     "metadata": {},
     "output_type": "execute_result"
    }
   ],
   "source": [
    "pages_scan = pages_scan.groupby(['name', 'year']).sum().reset_index()\n",
    "\n",
    "pages_scan.loc[pages_scan['year'] == \"2011\"]"
   ]
  },
  {
   "cell_type": "code",
   "execution_count": 38,
   "id": "869df6ab-98ac-4af0-879b-fb4b41354e0f",
   "metadata": {},
   "outputs": [],
   "source": [
    "pages_scan = pages_scan.drop(pages_scan[pages_scan.year == \"NaT\"].index)"
   ]
  },
  {
   "cell_type": "code",
   "execution_count": 39,
   "id": "eb9c259c-b7bd-402f-8549-98538e73ff8c",
   "metadata": {},
   "outputs": [],
   "source": [
    "# pages_scan.to_csv(\"/Users/elizabethschwartz/Documents/GitHub/ia_scanning_labor_data/metadata-analysis/metadata-records-analysis-csvs/annual_pages_scanned_per_center.csv\")\n",
    "for this_center in center_names: \n",
    "    center_data = pages_scan.loc[pages_scan['name'] == this_center]\n",
    "    center_data.to_csv(get_path(this_center)+ '/annual_pages_scanned.csv')"
   ]
  },
  {
   "cell_type": "code",
   "execution_count": null,
   "id": "06adbeb4-b1ed-400b-8e0e-5b63b52825be",
   "metadata": {},
   "outputs": [],
   "source": []
  }
 ],
 "metadata": {
  "kernelspec": {
   "display_name": "Python 3 (ipykernel)",
   "language": "python",
   "name": "python3"
  },
  "language_info": {
   "codemirror_mode": {
    "name": "ipython",
    "version": 3
   },
   "file_extension": ".py",
   "mimetype": "text/x-python",
   "name": "python",
   "nbconvert_exporter": "python",
   "pygments_lexer": "ipython3",
   "version": "3.12.4"
  }
 },
 "nbformat": 4,
 "nbformat_minor": 5
}
