{
 "cells": [
  {
   "cell_type": "code",
   "execution_count": 1,
   "id": "93cbcffd",
   "metadata": {},
   "outputs": [],
   "source": [
    "import pandas as pd\n",
    "\n",
    "\n"
   ]
  },
  {
   "cell_type": "code",
   "execution_count": 2,
   "id": "94af9725",
   "metadata": {},
   "outputs": [],
   "source": [
    "posts = pd.read_csv('/Users/e.schwartz/Documents/GitHub/ia_scanning_labor_data/csv_files/blog-posts-csvs/IAblog-CLEANED_final-final-04-06.csv')"
   ]
  },
  {
   "cell_type": "code",
   "execution_count": 3,
   "id": "66eb9752",
   "metadata": {},
   "outputs": [],
   "source": [
    "scan_occurences = []\n",
    "for i in range(len(posts)):\n",
    "    if 'scan' in posts.at[i, 'Article']:\n",
    "        scan_occurences.append(posts.iloc[i])\n",
    "    elif 'digiti'in posts.at[i, 'Article']:\n",
    "        scan_occurences.append(posts.iloc[i])\n",
    "    else: pass"
   ]
  },
  {
   "cell_type": "code",
   "execution_count": 4,
   "id": "03bfbf41",
   "metadata": {},
   "outputs": [
    {
     "data": {
      "text/plain": [
       "344"
      ]
     },
     "execution_count": 4,
     "metadata": {},
     "output_type": "execute_result"
    }
   ],
   "source": [
    "len(scan_occurences)"
   ]
  },
  {
   "cell_type": "code",
   "execution_count": 5,
   "id": "dc52ee77",
   "metadata": {},
   "outputs": [],
   "source": [
    "# capturing posts with the string scan or digiti in them to narrow down to a subset of posts \n",
    "# possibly about scanning labor. \n",
    "\n",
    "for i in range(len(posts)):\n",
    "    if 'scan' in str(posts.at[i, 'Article']).lower():\n",
    "        posts.at[i, 'bool'] = True \n",
    "    elif 'digiti'in posts.at[i, 'Article']:\n",
    "        posts.at[i, 'bool'] = True\n",
    "    else:\n",
    "        posts.at[i, 'bool'] = False\n",
    "    "
   ]
  },
  {
   "cell_type": "code",
   "execution_count": 6,
   "id": "964c3fee",
   "metadata": {},
   "outputs": [],
   "source": [
    "posts.loc[posts['bool']].to_csv('/Users/e.schwartz/Documents/GitHub/ia_scanning_labor_data/csv_files/blog-posts-csvs/blogs_containing_scan_or_digiti.csv')"
   ]
  },
  {
   "cell_type": "code",
   "execution_count": 7,
   "id": "293e970c",
   "metadata": {},
   "outputs": [
    {
     "data": {
      "text/html": [
       "<div>\n",
       "<style scoped>\n",
       "    .dataframe tbody tr th:only-of-type {\n",
       "        vertical-align: middle;\n",
       "    }\n",
       "\n",
       "    .dataframe tbody tr th {\n",
       "        vertical-align: top;\n",
       "    }\n",
       "\n",
       "    .dataframe thead th {\n",
       "        text-align: right;\n",
       "    }\n",
       "</style>\n",
       "<table border=\"1\" class=\"dataframe\">\n",
       "  <thead>\n",
       "    <tr style=\"text-align: right;\">\n",
       "      <th></th>\n",
       "      <th>Unnamed: 0</th>\n",
       "      <th>Title</th>\n",
       "      <th>Article</th>\n",
       "      <th>Url</th>\n",
       "      <th>bool</th>\n",
       "    </tr>\n",
       "  </thead>\n",
       "  <tbody>\n",
       "    <tr>\n",
       "      <th>2</th>\n",
       "      <td>2</td>\n",
       "      <td>The Fight Continues</td>\n",
       "      <td>Today’s lower court decision in Hachette v. ...</td>\n",
       "      <td>https://blog.archive.org/2023/03/</td>\n",
       "      <td>True</td>\n",
       "    </tr>\n",
       "    <tr>\n",
       "      <th>5</th>\n",
       "      <td>5</td>\n",
       "      <td>Press conference statement: Brewster Kahle, In...</td>\n",
       "      <td>Brewster Kahle is the founder and digital libr...</td>\n",
       "      <td>https://blog.archive.org/2023/03/</td>\n",
       "      <td>True</td>\n",
       "    </tr>\n",
       "    <tr>\n",
       "      <th>9</th>\n",
       "      <td>9</td>\n",
       "      <td>Press conference statement: Catherine Stihler,...</td>\n",
       "      <td>Catherine Stihler is the chief executive offic...</td>\n",
       "      <td>https://blog.archive.org/2023/03/</td>\n",
       "      <td>True</td>\n",
       "    </tr>\n",
       "    <tr>\n",
       "      <th>12</th>\n",
       "      <td>12</td>\n",
       "      <td>Celebrating Library Fair Use</td>\n",
       "      <td>It’s fair use week in the United States, and h...</td>\n",
       "      <td>https://blog.archive.org/2023/02/</td>\n",
       "      <td>True</td>\n",
       "    </tr>\n",
       "    <tr>\n",
       "      <th>22</th>\n",
       "      <td>22</td>\n",
       "      <td>Archive for Amateur Radio Grows to 51,000 Items</td>\n",
       "      <td>Internet Archive’s Digital Library of Amateur ...</td>\n",
       "      <td>https://blog.archive.org/2023/01/</td>\n",
       "      <td>True</td>\n",
       "    </tr>\n",
       "    <tr>\n",
       "      <th>...</th>\n",
       "      <td>...</td>\n",
       "      <td>...</td>\n",
       "      <td>...</td>\n",
       "      <td>...</td>\n",
       "      <td>...</td>\n",
       "    </tr>\n",
       "    <tr>\n",
       "      <th>1153</th>\n",
       "      <td>1156</td>\n",
       "      <td>Pound &amp; Friends</td>\n",
       "      <td>Ezra Pound (1885-1972) may be better known for...</td>\n",
       "      <td>https://blog.archive.org/2007/06/</td>\n",
       "      <td>True</td>\n",
       "    </tr>\n",
       "    <tr>\n",
       "      <th>1193</th>\n",
       "      <td>1196</td>\n",
       "      <td>Tech Award to the Internet Archive</td>\n",
       "      <td>The Internet Archive is honored to receive the...</td>\n",
       "      <td>https://blog.archive.org/2006/11/</td>\n",
       "      <td>True</td>\n",
       "    </tr>\n",
       "    <tr>\n",
       "      <th>1217</th>\n",
       "      <td>1220</td>\n",
       "      <td>Bookscanning Launch and Vision of an Open Library</td>\n",
       "      <td>Tonight we launched our bookscanning initiativ...</td>\n",
       "      <td>https://blog.archive.org/2005/11/</td>\n",
       "      <td>True</td>\n",
       "    </tr>\n",
       "    <tr>\n",
       "      <th>1223</th>\n",
       "      <td>1226</td>\n",
       "      <td>Open-Access Text Archives</td>\n",
       "      <td>International Libraries and the Internet Archi...</td>\n",
       "      <td>https://blog.archive.org/2004/12/</td>\n",
       "      <td>True</td>\n",
       "    </tr>\n",
       "    <tr>\n",
       "      <th>1224</th>\n",
       "      <td>1227</td>\n",
       "      <td>New book collection: color scans, djvu, some pdf</td>\n",
       "      <td>The Internet Archive working with some Canadi...</td>\n",
       "      <td>https://blog.archive.org/2004/12/</td>\n",
       "      <td>True</td>\n",
       "    </tr>\n",
       "  </tbody>\n",
       "</table>\n",
       "<p>348 rows × 5 columns</p>\n",
       "</div>"
      ],
      "text/plain": [
       "      Unnamed: 0                                              Title  \\\n",
       "2              2                                The Fight Continues   \n",
       "5              5  Press conference statement: Brewster Kahle, In...   \n",
       "9              9  Press conference statement: Catherine Stihler,...   \n",
       "12            12                       Celebrating Library Fair Use   \n",
       "22            22    Archive for Amateur Radio Grows to 51,000 Items   \n",
       "...          ...                                                ...   \n",
       "1153        1156                                    Pound & Friends   \n",
       "1193        1196                 Tech Award to the Internet Archive   \n",
       "1217        1220  Bookscanning Launch and Vision of an Open Library   \n",
       "1223        1226                          Open-Access Text Archives   \n",
       "1224        1227   New book collection: color scans, djvu, some pdf   \n",
       "\n",
       "                                                Article  \\\n",
       "2       Today’s lower court decision in Hachette v. ...   \n",
       "5     Brewster Kahle is the founder and digital libr...   \n",
       "9     Catherine Stihler is the chief executive offic...   \n",
       "12    It’s fair use week in the United States, and h...   \n",
       "22    Internet Archive’s Digital Library of Amateur ...   \n",
       "...                                                 ...   \n",
       "1153  Ezra Pound (1885-1972) may be better known for...   \n",
       "1193  The Internet Archive is honored to receive the...   \n",
       "1217  Tonight we launched our bookscanning initiativ...   \n",
       "1223  International Libraries and the Internet Archi...   \n",
       "1224   The Internet Archive working with some Canadi...   \n",
       "\n",
       "                                    Url  bool  \n",
       "2     https://blog.archive.org/2023/03/  True  \n",
       "5     https://blog.archive.org/2023/03/  True  \n",
       "9     https://blog.archive.org/2023/03/  True  \n",
       "12    https://blog.archive.org/2023/02/  True  \n",
       "22    https://blog.archive.org/2023/01/  True  \n",
       "...                                 ...   ...  \n",
       "1153  https://blog.archive.org/2007/06/  True  \n",
       "1193  https://blog.archive.org/2006/11/  True  \n",
       "1217  https://blog.archive.org/2005/11/  True  \n",
       "1223  https://blog.archive.org/2004/12/  True  \n",
       "1224  https://blog.archive.org/2004/12/  True  \n",
       "\n",
       "[348 rows x 5 columns]"
      ]
     },
     "execution_count": 7,
     "metadata": {},
     "output_type": "execute_result"
    }
   ],
   "source": [
    "posts.loc[posts['bool']]"
   ]
  },
  {
   "cell_type": "markdown",
   "id": "1a5e09aa",
   "metadata": {},
   "source": [
    "## sentences with scan or digiti in them \n",
    "Now I want to narrow down to the smaller chunk(s) of text for each post that contain digiti or scan in a sentence. \n"
   ]
  },
  {
   "cell_type": "code",
   "execution_count": 12,
   "id": "2ab7edd6",
   "metadata": {},
   "outputs": [],
   "source": [
    "data = []\n",
    "\n",
    "for i in range(len(posts)):\n",
    "    this_article = posts.at[i, 'Article'].split('.')\n",
    "    for sentence in this_article: \n",
    "        if 'scan' in str(sentence):\n",
    "            data.append(['scan', sentence, posts.at[i, 'Title'], posts.at[i, 'Url'], posts.at[i, 'Unnamed: 0']])\n",
    "          \n",
    "        elif 'digiti' in str(sentence): \n",
    "            data.append(['digiti', sentence, posts.at[i, 'Title'], posts.at[i, 'Url'], posts.at[i, 'Unnamed: 0']])\n",
    "          \n",
    "        else: \n",
    "            pass"
   ]
  },
  {
   "cell_type": "code",
   "execution_count": 15,
   "id": "c6080d4f",
   "metadata": {},
   "outputs": [],
   "source": [
    "\n",
    "sentence_df = pd.DataFrame(data, columns=['word', 'sentence', 'title', 'url', 'identifier'])"
   ]
  },
  {
   "cell_type": "code",
   "execution_count": 17,
   "id": "75571a10",
   "metadata": {},
   "outputs": [],
   "source": [
    "sentence_df.to_csv('/Users/e.schwartz/Documents/GitHub/ia_scanning_labor_data/csv_files/blog-posts-csvs/sentences-with-hits.csv')"
   ]
  },
  {
   "cell_type": "markdown",
   "id": "d6897366",
   "metadata": {},
   "source": [
    "## part of speech tagging \n",
    "\n",
    "https://programminghistorian.org/en/lessons/corpus-analysis-with-spacy#:~:text=spaCy%20facilitates%20two%20levels%20of,for%20example%203rd%20person%20singular "
   ]
  },
  {
   "cell_type": "code",
   "execution_count": null,
   "id": "ff05ffef",
   "metadata": {},
   "outputs": [],
   "source": []
  }
 ],
 "metadata": {
  "kernelspec": {
   "display_name": "Python 3 (ipykernel)",
   "language": "python",
   "name": "python3"
  },
  "language_info": {
   "codemirror_mode": {
    "name": "ipython",
    "version": 3
   },
   "file_extension": ".py",
   "mimetype": "text/x-python",
   "name": "python",
   "nbconvert_exporter": "python",
   "pygments_lexer": "ipython3",
   "version": "3.9.17"
  }
 },
 "nbformat": 4,
 "nbformat_minor": 5
}
