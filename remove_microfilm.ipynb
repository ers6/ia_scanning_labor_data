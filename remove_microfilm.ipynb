{
 "cells": [
  {
   "cell_type": "code",
   "execution_count": 1,
   "id": "22fe339f-667c-4262-9f10-823f1894a05d",
   "metadata": {},
   "outputs": [],
   "source": [
    "import pandas as pd"
   ]
  },
  {
   "cell_type": "code",
   "execution_count": 2,
   "id": "5b635311-77ec-4822-8a7b-10729f32dfa9",
   "metadata": {},
   "outputs": [],
   "source": [
    "# accessing the geocoded texts dataset from my external hard drive. You can get it from this box link: https://wustl.account.box.com/login?redirect_url=%2Ffolder%2F271951204450&logout=true\n",
    "texts = pd.read_csv('/Volumes/Samsung_T5/scanning_labor_in_IA/geocoded-texts-data.csv', low_memory=False)\n",
    "texts = texts.drop(columns=['Unnamed: 0.3', 'Unnamed: 0.2', 'Unnamed: 0.1', 'Unnamed: 0'])"
   ]
  },
  {
   "cell_type": "code",
   "execution_count": 3,
   "id": "af9dc481-9cde-4aa7-9b5b-5bc6b857fd54",
   "metadata": {},
   "outputs": [],
   "source": [
    "def weed_microfilm(ia_df):\n",
    "    search_strs = [\"microfilm\", \"microfiche\", \"-mf\", \"Internet Archive\"]\n",
    "    scanners = ia_df['scanner'].drop_duplicates().tolist()\n",
    "    scribes = []\n",
    "    data = []\n",
    "    for scanner in scanners: \n",
    "        hit = True\n",
    "        for search_str in search_strs: \n",
    "            if search_str in str(scanner): \n",
    "                hit = False\n",
    "            else: pass\n",
    "        if hit: \n",
    "            scribes.append(scanner)\n",
    "        else: pass\n",
    "    for i in range(len(ia_df)): \n",
    "        if str(ia_df.at[i,'scanner']) in scribes: \n",
    "                if \"microfilm\" in str(ia_df.at[i,'operator']):\n",
    "                    pass\n",
    "                else:\n",
    "                    data.append(ia_df.iloc[i].to_dict())\n",
    "        else: pass\n",
    "\n",
    "    return pd.DataFrame(data)"
   ]
  },
  {
   "cell_type": "code",
   "execution_count": 4,
   "id": "67254362-c052-4364-998c-bbbb22f562fd",
   "metadata": {},
   "outputs": [],
   "source": [
    "texts = weed_microfilm(texts)"
   ]
  },
  {
   "cell_type": "code",
   "execution_count": 6,
   "id": "496d1fd1-6173-4213-98ed-53f62da609ef",
   "metadata": {},
   "outputs": [],
   "source": [
    "texts.to_csv(\"/Volumes/Samsung_T5/scanning_labor_in_IA/geocoded-texts-data-no-microfilm.csv\")"
   ]
  },
  {
   "cell_type": "code",
   "execution_count": null,
   "id": "52732ae2-b0d9-4a9d-b4a7-f4a007b15b41",
   "metadata": {},
   "outputs": [],
   "source": []
  }
 ],
 "metadata": {
  "kernelspec": {
   "display_name": "Python 3 (ipykernel)",
   "language": "python",
   "name": "python3"
  },
  "language_info": {
   "codemirror_mode": {
    "name": "ipython",
    "version": 3
   },
   "file_extension": ".py",
   "mimetype": "text/x-python",
   "name": "python",
   "nbconvert_exporter": "python",
   "pygments_lexer": "ipython3",
   "version": "3.12.2"
  }
 },
 "nbformat": 4,
 "nbformat_minor": 5
}
